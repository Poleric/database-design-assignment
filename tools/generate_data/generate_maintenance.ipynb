{
 "cells": [
  {
   "cell_type": "code",
   "id": "initial_id",
   "metadata": {
    "ExecuteTime": {
     "end_time": "2024-04-30T09:43:02.367771Z",
     "start_time": "2024-04-30T09:43:02.311749Z"
    }
   },
   "source": [
    "# from os import getenv\n",
    "from connect_db import connect_db\n",
    "# con = connect_db(\n",
    "#     username=getenv(\"ORACLE_USERNAME\"),\n",
    "#     password=getenv(\"ORACLE_PASSWORD\"),\n",
    "#     host=getenv(\"ORACLE_HOST\"),\n",
    "#     port=int(getenv(\"ORACLE_PORT\"))\n",
    "# )\n",
    "con = connect_db(\n",
    "    username=\"database\",\n",
    "    password=\"database\",\n",
    "    host=\"localhost\",\n",
    "    port=1521\n",
    ")\n",
    "cur = con.cursor()"
   ],
   "outputs": [],
   "execution_count": 10
  },
  {
   "metadata": {
    "ExecuteTime": {
     "end_time": "2024-04-30T09:47:22.014136Z",
     "start_time": "2024-04-30T09:47:22.011153Z"
    }
   },
   "cell_type": "code",
   "source": [
    "A_CHECK_PER_MONTHS = 1\n",
    "A_CHECK_DURATION_HOURS = 10\n",
    "B_CHECK_PER_MONTHS = 6\n",
    "B_CHECK_DURATION_HOURS = 2 * 24\n",
    "C_CHECK_PER_MONTHS = 24\n",
    "C_CHECK_DURATION_HOURS = 10 * 24"
   ],
   "id": "bcc152d5e5cd6a28",
   "outputs": [],
   "execution_count": 22
  },
  {
   "metadata": {
    "ExecuteTime": {
     "end_time": "2024-04-30T09:47:22.386331Z",
     "start_time": "2024-04-30T09:47:22.379847Z"
    }
   },
   "cell_type": "code",
   "source": [
    "from datetime import datetime\n",
    "from typing import NamedTuple\n",
    "from enum import Enum, auto\n",
    "\n",
    "class MaintenanceType(Enum):\n",
    "    ACHK = auto()\n",
    "    BCHK = auto()\n",
    "    CCHK = auto()\n",
    "    DCHK = auto()\n",
    "\n",
    "class Maintenance(NamedTuple):\n",
    "    aircraft_id: str\n",
    "    maintenance_type: MaintenanceType\n",
    "    dt: datetime\n",
    "    description: str"
   ],
   "id": "e854ff0597f159b9",
   "outputs": [],
   "execution_count": 23
  },
  {
   "metadata": {
    "ExecuteTime": {
     "end_time": "2024-04-30T09:47:22.727083Z",
     "start_time": "2024-04-30T09:47:22.719318Z"
    }
   },
   "cell_type": "code",
   "source": [
    "from datetime import timedelta\n",
    "import random\n",
    "\n",
    "def get_timedelta_in_hours(td: timedelta) -> float:\n",
    "    return td.total_seconds() / 60 / 60\n",
    "\n",
    "def get_timedelta_in_months(td: timedelta, days_per_months = 30) -> float:\n",
    "    return get_timedelta_in_hours(td) / 24 / days_per_months\n",
    "\n",
    "# https://stackoverflow.com/questions/553303/generate-a-random-date-between-two-other-dates\n",
    "def random_date(start: datetime, end: datetime):\n",
    "    \"\"\"\n",
    "    This function will return a random datetime between two datetime \n",
    "    objects.\n",
    "    \"\"\"\n",
    "    delta = end - start\n",
    "    int_delta = (delta.days * 24 * 60 * 60) + delta.seconds\n",
    "    random_second = random.randrange(int_delta)\n",
    "    return start + timedelta(seconds=random_second)"
   ],
   "id": "f35498ec7ac5c73d",
   "outputs": [],
   "execution_count": 24
  },
  {
   "metadata": {
    "ExecuteTime": {
     "end_time": "2024-04-30T09:47:23.117589Z",
     "start_time": "2024-04-30T09:47:23.088548Z"
    }
   },
   "cell_type": "code",
   "source": [
    "from dataclasses import dataclass\n",
    "\n",
    "@dataclass(slots=True)\n",
    "class CheckDetail:\n",
    "    a_check: datetime\n",
    "    b_check: datetime\n",
    "    c_check: datetime\n",
    "    \n",
    "    def get_last_check(self, maintenance_type: MaintenanceType) -> datetime:\n",
    "        match maintenance_type:\n",
    "            case MaintenanceType.ACHK:\n",
    "                return max(self.a_check, self.b_check, self.c_check)\n",
    "            case MaintenanceType.BCHK:\n",
    "                return max(self.b_check, self.c_check)\n",
    "            case MaintenanceType.CCHK:\n",
    "                return self.c_check\n",
    "\n",
    "stmt = \"SELECT AIRCRAFT_ID, PURCHASE_DATE FROM AIRCRAFT\"\n",
    "AIRCRAFT_LAST_CHECK: dict[str, CheckDetail] = {}\n",
    "for row in cur.execute(stmt):\n",
    "    AIRCRAFT_LAST_CHECK[row[0]] = CheckDetail(\n",
    "        a_check=random_date(max(row[1], datetime(2022, 12, 1)), datetime(2023, 1, 1)),\n",
    "        b_check=random_date(max(row[1], datetime(2022, 6, 1)), datetime(2023, 1, 1)),\n",
    "        c_check=random_date(max(row[1], datetime(2021, 1, 1)), datetime(2023, 1, 1))\n",
    "    )"
   ],
   "id": "3302acffbafda8e1",
   "outputs": [],
   "execution_count": 25
  },
  {
   "metadata": {
    "ExecuteTime": {
     "end_time": "2024-04-30T09:47:23.448125Z",
     "start_time": "2024-04-30T09:47:23.436079Z"
    }
   },
   "cell_type": "code",
   "source": [
    "def schedule_next_maintenance(aircraft_id: str, idle_time: datetime, duration_in_hours: float) -> Maintenance:\n",
    "    check = AIRCRAFT_LAST_CHECK[aircraft_id]\n",
    "    if get_timedelta_in_months(idle_time - check.get_last_check(MaintenanceType.CCHK)) > C_CHECK_PER_MONTHS:\n",
    "        if duration_in_hours > C_CHECK_DURATION_HOURS:\n",
    "            return Maintenance(\n",
    "                aircraft_id=aircraft_id,\n",
    "                maintenance_type=MaintenanceType.CCHK,\n",
    "                dt=idle_time,\n",
    "                description=\"\"\n",
    "            )\n",
    "    if get_timedelta_in_months(idle_time - check.get_last_check(MaintenanceType.BCHK)) > B_CHECK_PER_MONTHS:\n",
    "        if duration_in_hours > B_CHECK_DURATION_HOURS:\n",
    "            return Maintenance(\n",
    "                aircraft_id=aircraft_id,\n",
    "                maintenance_type=MaintenanceType.BCHK,\n",
    "                dt=idle_time,\n",
    "                description=\"\"\n",
    "            )\n",
    "    if get_timedelta_in_months(idle_time - check.get_last_check(MaintenanceType.ACHK)) > A_CHECK_PER_MONTHS:\n",
    "        if duration_in_hours > A_CHECK_DURATION_HOURS:\n",
    "            return Maintenance(\n",
    "                aircraft_id=aircraft_id,\n",
    "                maintenance_type=MaintenanceType.ACHK,\n",
    "                dt=idle_time,\n",
    "                description=\"\"\n",
    "            )\n",
    "        \n",
    "def update_maintenance(maintenance: Maintenance):\n",
    "    match maintenance.maintenance_type:\n",
    "        case MaintenanceType.ACHK:\n",
    "            AIRCRAFT_LAST_CHECK[maintenance.aircraft_id].a_check = maintenance.dt\n",
    "        case MaintenanceType.BCHK:\n",
    "            AIRCRAFT_LAST_CHECK[maintenance.aircraft_id].b_check = maintenance.dt\n",
    "        case MaintenanceType.CCHK:\n",
    "            AIRCRAFT_LAST_CHECK[maintenance.aircraft_id].c_check = maintenance.dt"
   ],
   "id": "69b7b454ec8e078b",
   "outputs": [],
   "execution_count": 26
  },
  {
   "metadata": {},
   "cell_type": "code",
   "source": [
    "from utils import paginate_insert_all\n",
    "\n",
    "sql = \"    INTO MAINTENANCE_LOG (AIRCRAFT_ID, MAINTENANCE_TYPE_ID, MAINTENANCE_DATETIME, MAINTENANCE_DESCRIPTION) VALUES ('{}', '{}', TO_TIMESTAMP('{:%Y-%m-%d %H:%M:%S}', 'YYYY-MM-DD HH24:MI:SS'), '{}')\"\n",
    "@paginate_insert_all\n",
    "def insert_maintenance(maintenance: Maintenance):\n",
    "    print(sql.format(maintenance.aircraft_id, maintenance.maintenance_type.name, maintenance.dt, maintenance.description))\n",
    "\n",
    "stmt = \"\"\"\n",
    "SELECT\n",
    "    AIRCRAFT_ID,\n",
    "    LAG(DEPARTURE_DATETIME) OVER (ORDER BY AIRCRAFT_ID, DEPARTURE_DATETIME) AS \"Last Departure\",\n",
    "    LAG(DEPARTURE_DATETIME + EST_DURATION_IN_HOUR / 24) OVER (ORDER BY AIRCRAFT_ID, DEPARTURE_DATETIME) AS \"Expected Arrival / Idle Start\",\n",
    "    DEPARTURE_DATETIME AS \"Next Departure Time\",\n",
    "    DEPARTURE_DATETIME - LAG(DEPARTURE_DATETIME + EST_DURATION_IN_HOUR / 24) OVER (ORDER BY AIRCRAFT_ID, DEPARTURE_DATETIME) AS \"Idle Duration\"\n",
    "FROM FLIGHT\n",
    "ORDER BY AIRCRAFT_ID, DEPARTURE_DATETIME\n",
    "\"\"\"\n",
    "for row in cur.execute(stmt):\n",
    "    if not row[4]:\n",
    "        continue\n",
    "    \n",
    "    aircraft_id: str = row[0]\n",
    "    idle_start: datetime = row[2]\n",
    "    duration: timedelta = row[4]\n",
    "    \n",
    "    idle_start += timedelta(hours=1)\n",
    "    duration -= timedelta(hours=1)\n",
    "    \n",
    "    maintenance = schedule_next_maintenance(aircraft_id, idle_start, get_timedelta_in_hours(duration))\n",
    "    if not maintenance:\n",
    "        continue\n",
    "    \n",
    "    insert_maintenance(maintenance)\n",
    "        \n",
    "    update_maintenance(maintenance)\n",
    "    \n",
    "print(\"SELECT 1 FROM DUAL;\")"
   ],
   "id": "2ce4e4ac63d294",
   "outputs": [],
   "execution_count": null
  },
  {
   "metadata": {
    "ExecuteTime": {
     "end_time": "2024-04-30T09:47:24.818950Z",
     "start_time": "2024-04-30T09:47:24.810525Z"
    }
   },
   "cell_type": "code",
   "source": "con.close()",
   "id": "41ff206f8ceec74c",
   "outputs": [],
   "execution_count": 28
  }
 ],
 "metadata": {
  "kernelspec": {
   "display_name": "Python 3",
   "language": "python",
   "name": "python3"
  },
  "language_info": {
   "codemirror_mode": {
    "name": "ipython",
    "version": 2
   },
   "file_extension": ".py",
   "mimetype": "text/x-python",
   "name": "python",
   "nbconvert_exporter": "python",
   "pygments_lexer": "ipython2",
   "version": "2.7.6"
  }
 },
 "nbformat": 4,
 "nbformat_minor": 5
}
