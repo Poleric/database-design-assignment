{
 "cells": [
  {
   "cell_type": "code",
   "execution_count": null,
   "id": "4cc1c82fe570bd55",
   "metadata": {
    "ExecuteTime": {
     "end_time": "2024-04-11T16:51:54.256175Z",
     "start_time": "2024-04-11T16:51:54.119180Z"
    }
   },
   "outputs": [],
   "source": [
    "from typing import NamedTuple\n",
    "from datetime import datetime\n",
    "\n",
    "class AircraftModel(NamedTuple):\n",
    "    model_id: str\n",
    "    model_name: str\n",
    "    manufacturer: str\n",
    "    release_date: datetime"
   ]
  },
  {
   "cell_type": "code",
   "execution_count": null,
   "id": "initial_id",
   "metadata": {},
   "outputs": [],
   "source": [
    "import requests\n",
    "from bs4 import BeautifulSoup\n",
    "from typing import Iterable\n",
    "import unicodedata\n",
    "\n",
    "def datetime_string_datetime(s: str) -> datetime:\n",
    "    formats = (\"%d %B %Y\", \"%B %d, %Y\")\n",
    "    for format in formats:\n",
    "        try:\n",
    "            return datetime.strptime(s, format)\n",
    "        except ValueError:\n",
    "            continue\n",
    "    \n",
    "\n",
    "def get_date_and_manufacturer(url: str) -> tuple[datetime, str]:\n",
    "    ret = requests.get(url)\n",
    "    ret.raise_for_status()\n",
    "    \n",
    "    soup = BeautifulSoup(ret.content, \"lxml\")\n",
    "    infobox = soup.find(\"table\", class_=\"infobox\")\n",
    "    body = infobox.find(\"tbody\")\n",
    "    td1 = body.find(lambda t: t.get_text(strip=True) in ('Manufacturer', \"Design group\"))\n",
    "    manufacturer = td1.find_next(\"td\").get_text(strip=True)\n",
    "    \n",
    "    td1 = body.find(lambda t: t.get_text(strip=True) == 'First flight')\n",
    "    date = unicodedata.normalize(\"NFKD\", td1.find_next(\"td\").contents[0].split(\"\\n\")[0].split(\";\")[0].split(\":\")[-1].strip())\n",
    "    date = datetime_string_datetime(date)\n",
    "    \n",
    "    return date, manufacturer\n",
    "    \n",
    "def get_aircraft_model() -> Iterable[AircraftModel]:\n",
    "    ret = requests.get(\"https://en.wikipedia.org/wiki/List_of_aircraft_type_designators\")\n",
    "    ret.raise_for_status()\n",
    "    \n",
    "    soup = BeautifulSoup(ret.content, \"lxml\")\n",
    "    table = soup.find(\"table\", class_=\"wikitable\")\n",
    "    body = table.find(\"tbody\")\n",
    "    \n",
    "    for row in body.find_all(\"tr\"):\n",
    "        cols = row.find_all(\"td\")\n",
    "        if not cols:\n",
    "            continue\n",
    "            \n",
    "        model_id = cols[0].get_text(strip=True)\n",
    "        model_name = cols[2].find(\"a\").get_text(strip=True)\n",
    "        if not model_name.startswith(\"Boeing\") and not model_name.startswith(\"Airbus\"):\n",
    "            continue\n",
    "        model_url = \"https://en.wikipedia.org/\" + cols[2].find(\"a\")[\"href\"]\n",
    "        date, manufacturer = get_date_and_manufacturer(model_url)\n",
    "        yield AircraftModel(\n",
    "            model_id=model_id,\n",
    "            model_name=model_name,\n",
    "            manufacturer=manufacturer,\n",
    "            release_date=date\n",
    "        )\n",
    "\n",
    "trans = str.maketrans({\"'\": \"''\", \"&\": r\"\\&\"})\n",
    "make_sql_nice = lambda s: s.translate(trans)\n",
    "\n",
    "\n",
    "for aircraft_model in get_aircraft_model():\n",
    "    print(f\"    INTO AIRCRAFT_MODEL (AIRCRAFT_MODEL_ID, MODEL_NAME, MODEL_MANUFACTURER, NUMBER_OF_SEAT, RELEASE_DATE) \"\n",
    "          f\"VALUES ('{make_sql_nice(aircraft_model.model_id)}', '{make_sql_nice(aircraft_model.model_name)}', '{make_sql_nice(aircraft_model.manufacturer)}', 1, TO_DATE('{aircraft_model.release_date:%Y-%m-%d}', 'YYYY-MM-DD'))\")"
   ]
  }
 ],
 "metadata": {
  "kernelspec": {
   "display_name": "Python 3",
   "language": "python",
   "name": "python3"
  },
  "language_info": {
   "codemirror_mode": {
    "name": "ipython",
    "version": 2
   },
   "file_extension": ".py",
   "mimetype": "text/x-python",
   "name": "python",
   "nbconvert_exporter": "python",
   "pygments_lexer": "ipython2",
   "version": "2.7.6"
  }
 },
 "nbformat": 4,
 "nbformat_minor": 5
}
