{
 "cells": [
  {
   "cell_type": "code",
   "execution_count": null,
   "id": "initial_id",
   "metadata": {
    "ExecuteTime": {
     "end_time": "2024-04-18T16:03:09.398323Z",
     "start_time": "2024-04-18T16:03:08.282768Z"
    }
   },
   "outputs": [],
   "source": [
    "from os import getenv\n",
    "from connect_db import connect_db\n",
    "con = connect_db(\n",
    "    username=getenv(\"ORACLE_USERNAME\"),\n",
    "    password=getenv(\"ORACLE_PASSWORD\"),\n",
    "    host=getenv(\"ORACLE_HOST\"),\n",
    "    port=int(getenv(\"ORACLE_PORT\"))\n",
    ")\n",
    "cur = con.cursor()"
   ]
  },
  {
   "cell_type": "code",
   "execution_count": null,
   "id": "55fed97b604706bb",
   "metadata": {
    "ExecuteTime": {
     "end_time": "2024-04-18T16:47:04.004512Z",
     "start_time": "2024-04-18T16:47:03.999752Z"
    }
   },
   "outputs": [],
   "source": [
    "import numpy as np\n",
    "\n",
    "def deviate(n: int, error: float) -> int:\n",
    "    deviation = int(n * error)\n",
    "    return n + np.random.randint(-deviation, deviation + 1)\n",
    "\n",
    "AVERAGE_KILOMETER_PER_HOURS = 580\n",
    "def get_duration_in_hours(kilometers: int) -> float:\n",
    "    return deviate(kilometers, 0.01) / AVERAGE_KILOMETER_PER_HOURS"
   ]
  },
  {
   "cell_type": "code",
   "execution_count": null,
   "id": "c4848b8bf0338927",
   "metadata": {
    "ExecuteTime": {
     "end_time": "2024-04-18T17:33:11.029965Z",
     "start_time": "2024-04-18T17:33:11.018740Z"
    }
   },
   "outputs": [],
   "source": [
    "from typing import NamedTuple\n",
    "from datetime import time\n",
    "\n",
    "class Schedule(NamedTuple):\n",
    "    route_id: str\n",
    "    time_of_day: time\n",
    "\n",
    "WEEKLY_SCHEDULE: dict[int, list[Schedule]] = {\n",
    "    0: [\n",
    "        Schedule(\"SFS0010\", time(8, 0)),\n",
    "        Schedule(\"SFS0104\", time(9, 0)),\n",
    "        Schedule(\"SFS0011\", time(12, 30)),\n",
    "        Schedule(\"SFS0105\", time(14, 30)),\n",
    "        Schedule(\"SFS0010\", time(15, 30)),\n",
    "        Schedule(\"SFS0011\", time(18, 0))\n",
    "    ],\n",
    "    1: [\n",
    "        Schedule(\"SFS0115\", time(8, 0)),\n",
    "        Schedule(\"SFS0100\", time(9, 0)),\n",
    "        Schedule(\"SFS0101\", time(15, 0)),\n",
    "        Schedule(\"SFS0100\", time(20, 0)),\n",
    "        Schedule(\"SFS0100\", time(23, 30))\n",
    "    ],\n",
    "    2: [\n",
    "        Schedule(\"SFS0302\", time(3, 0)),\n",
    "        Schedule(\"SFS0300\", time(4, 0)),\n",
    "        Schedule(\"SFS0105\", time(9, 30)),\n",
    "        Schedule(\"SFS0104\", time(14, 0))\n",
    "    ],\n",
    "    3: [\n",
    "        Schedule(\"SFS0301\", time(7, 0)),\n",
    "        Schedule(\"SFS0010\", time(8, 30)),\n",
    "        Schedule(\"SFS0303\", time(8, 30)),\n",
    "        Schedule(\"SFS0011\", time(12, 0)),\n",
    "        Schedule(\"SFS0010\", time(15, 30)),\n",
    "        Schedule(\"SFS0011\", time(18, 0)),\n",
    "        Schedule(\"SFS0116\", time(23, 30))\n",
    "    ],\n",
    "    4: [\n",
    "        Schedule(\"SFS0104\", time(9, 0)),\n",
    "        Schedule(\"SFS0201\", time(11, 30)),\n",
    "        Schedule(\"SFS0105\", time(14, 0)),\n",
    "        Schedule(\"SFS0205\", time(15, 0))\n",
    "    ],\n",
    "    5: [\n",
    "        Schedule(\"SFS0206\", time(7, 30)),\n",
    "        Schedule(\"SFS0111\", time(8, 30)),\n",
    "        Schedule(\"SFS0202\", time(20, 30)),\n",
    "        Schedule(\"SFS0112\", time(21, 0))\n",
    "    ],\n",
    "    6: [\n",
    "        Schedule(\"SFS0105\", time(9, 0)),\n",
    "        Schedule(\"SFS0013\", time(10, 0)),\n",
    "        Schedule(\"SFS0104\", time(14, 0)),\n",
    "        Schedule(\"SFS0014\", time(18, 0)),\n",
    "    ]\n",
    "}"
   ]
  },
  {
   "cell_type": "code",
   "execution_count": null,
   "id": "9a15a66d17164e01",
   "metadata": {
    "ExecuteTime": {
     "end_time": "2024-04-18T17:27:14.137488Z",
     "start_time": "2024-04-18T17:27:13.924871Z"
    }
   },
   "outputs": [],
   "source": [
    "DISTANCE: dict[str, int] = {}\n",
    "\n",
    "stmt = \"SELECT ROUTE_ID, DISTANCE_IN_KM FROM ROUTE\"\n",
    "for row in cur.execute(stmt):\n",
    "    DISTANCE[row[0]] = row[1]"
   ]
  },
  {
   "cell_type": "code",
   "execution_count": null,
   "id": "7c181c317c0dbce7",
   "metadata": {
    "ExecuteTime": {
     "end_time": "2024-04-18T17:32:32.609707Z",
     "start_time": "2024-04-18T17:32:32.393341Z"
    }
   },
   "outputs": [],
   "source": [
    "from datetime import datetime\n",
    " \n",
    "class Info(NamedTuple):\n",
    "    can_use_after: datetime\n",
    "    airport: str\n",
    "    \n",
    "# very sloppy aircraft management\n",
    "AIRCRAFT: dict[str, Info] = {}\n",
    "stmt = \"SELECT AIRCRAFT_ID FROM AIRCRAFT\"\n",
    "for row in cur.execute(stmt):\n",
    "    AIRCRAFT[row[0]] = Info(datetime.min, \"KUL\")\n",
    "    \n",
    "def choose_aircraft(dt: datetime, start_airport: str) -> str:\n",
    "    sorted_aircrafts = sorted(AIRCRAFT.items(), key=lambda t: t[1].can_use_after)\n",
    "    \n",
    "    for aircraft, info in sorted_aircrafts:\n",
    "        if dt > info.can_use_after and start_airport == info.airport:\n",
    "            return aircraft\n",
    "    \n",
    "    for aircraft, info in sorted_aircrafts:\n",
    "        if dt > info.can_use_after:\n",
    "            return aircraft\n",
    "        \n",
    "    return sorted_aircrafts[0][0]\n",
    "    \n",
    "def use_aircraft(aircraft_id: str, dt: datetime, end_airport: str):\n",
    "    AIRCRAFT[aircraft_id] = Info(dt, end_airport)"
   ]
  },
  {
   "cell_type": "code",
   "execution_count": null,
   "id": "469e30ba896e1379",
   "metadata": {
    "ExecuteTime": {
     "end_time": "2024-04-18T17:25:29.620964Z",
     "start_time": "2024-04-18T17:25:29.573614Z"
    }
   },
   "outputs": [],
   "source": [
    "START_AND_END_AIRPORTS: dict[str, tuple[str, str]] = {}\n",
    "\n",
    "stmt = \"SELECT ROUTE_ID, FROM_AIRPORT_ID, TO_AIRPORT_ID FROM ROUTE\"\n",
    "for row in cur.execute(stmt):\n",
    "    START_AND_END_AIRPORTS[row[0]] = row[1], row[2]"
   ]
  },
  {
   "cell_type": "code",
   "execution_count": null,
   "id": "de2eff4ff768046b",
   "metadata": {},
   "outputs": [],
   "source": [
    "from datetime import timedelta\n",
    "\n",
    "starting_date = datetime(2023, 1, 1)\n",
    "now = datetime.now()\n",
    "\n",
    "sql = \"    INTO FLIGHT (ROUTE_ID, AIRCRAFT_ID, DEPARTURE_DATETIME, EST_DURATION_IN_HOUR) VALUES ('{}', '{}', TO_TIMESTAMP('{:%Y-%m-%d %H:%M:%S}', 'YYYY-MM-DD HH24:MI:SS'), {:.2f})\"\n",
    "while starting_date < now:\n",
    "    schedule = WEEKLY_SCHEDULE[starting_date.weekday()]\n",
    "    for flight in schedule:\n",
    "        route_id = flight.route_id\n",
    "        departure_time = datetime.combine(starting_date.date(), flight.time_of_day)\n",
    "        start_airport, end_airport = START_AND_END_AIRPORTS[route_id]\n",
    "        aircraft_id = choose_aircraft(departure_time, start_airport)\n",
    "        est_duration = get_duration_in_hours(DISTANCE[route_id])\n",
    "        \n",
    "        print(sql.format(route_id, aircraft_id, departure_time, est_duration))\n",
    "        \n",
    "        use_aircraft(aircraft_id, departure_time + timedelta(hours=est_duration + 0.5), end_airport)\n",
    "    \n",
    "    starting_date += timedelta(days=1)"
   ]
  },
  {
   "cell_type": "code",
   "execution_count": null,
   "id": "b5b810283718427b",
   "metadata": {
    "ExecuteTime": {
     "end_time": "2024-04-18T17:35:45.660456Z",
     "start_time": "2024-04-18T17:35:45.612005Z"
    }
   },
   "outputs": [],
   "source": [
    "con.close()"
   ]
  }
 ],
 "metadata": {
  "kernelspec": {
   "display_name": "Python 3",
   "language": "python",
   "name": "python3"
  },
  "language_info": {
   "codemirror_mode": {
    "name": "ipython",
    "version": 2
   },
   "file_extension": ".py",
   "mimetype": "text/x-python",
   "name": "python",
   "nbconvert_exporter": "python",
   "pygments_lexer": "ipython2",
   "version": "2.7.6"
  }
 },
 "nbformat": 4,
 "nbformat_minor": 5
}
