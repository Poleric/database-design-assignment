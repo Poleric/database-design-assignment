{
 "cells": [
  {
   "cell_type": "code",
   "id": "initial_id",
   "metadata": {
    "collapsed": true,
    "ExecuteTime": {
     "end_time": "2024-04-25T07:20:17.585443Z",
     "start_time": "2024-04-25T07:20:16.446490Z"
    }
   },
   "source": [
    "from os import getenv\n",
    "from connect_db import connect_db\n",
    "con = connect_db(\n",
    "    username=getenv(\"ORACLE_USERNAME\"),\n",
    "    password=getenv(\"ORACLE_PASSWORD\"),\n",
    "    host=getenv(\"ORACLE_HOST\"),\n",
    "    port=int(getenv(\"ORACLE_PORT\"))\n",
    ")\n",
    "cur = con.cursor()"
   ],
   "outputs": [],
   "execution_count": 2
  },
  {
   "metadata": {
    "ExecuteTime": {
     "end_time": "2024-04-25T07:20:18.657922Z",
     "start_time": "2024-04-25T07:20:18.654188Z"
    }
   },
   "cell_type": "code",
   "source": [
    "import random\n",
    "\n",
    "REASONS = (\"Didn't order\", \"Change flight date\", \"Busy on that day\", \"Refund\", \"Flight delayed too many times\", \"I regret\", \"I broke my legs\", \"I was drunk\", \"Grandpa stroke\")\n",
    "REASONS_WEIGHTS = (15, 4, 1, 5, 2, 1, 1, 1, 10)\n",
    "def get_random_reason():\n",
    "    return random.sample(REASONS, k=1, counts=REASONS_WEIGHTS)[0]"
   ],
   "id": "49118a8acf3c7dd5",
   "outputs": [],
   "execution_count": 3
  },
  {
   "metadata": {
    "ExecuteTime": {
     "end_time": "2024-04-25T07:54:49.592191Z",
     "start_time": "2024-04-25T07:54:37.174658Z"
    }
   },
   "cell_type": "code",
   "source": [
    "from typing import TypedDict\n",
    "from datetime import datetime\n",
    "\n",
    "stmt = \"SELECT PAYMENT_ID, CREATED_AT FROM PAYMENT\"\n",
    "\n",
    "class Payment(TypedDict):\n",
    "    id: str\n",
    "    created_at: datetime\n",
    "    \n",
    "\n",
    "PICKED_PAYMENT = [Payment(id=row[0], created_at=row[1]) for row in cur.execute(stmt) if random.randint(1, 100) == 1]"
   ],
   "id": "a80d3503bcb8a84a",
   "outputs": [],
   "execution_count": 11
  },
  {
   "metadata": {},
   "cell_type": "code",
   "outputs": [],
   "execution_count": null,
   "source": [
    "from datetime import timedelta\n",
    "\n",
    "def deviate_time(dt: datetime, max_days: int) -> datetime:\n",
    "    return dt + timedelta(days=random.randint(0, max_days), hours=random.randint(0, 23), minutes=random.randint(0, 59), seconds=random.randint(0, 59))"
   ],
   "id": "d71b7ce221873c7b"
  },
  {
   "metadata": {
    "ExecuteTime": {
     "end_time": "2024-04-25T07:53:05.677359Z",
     "start_time": "2024-04-25T07:53:05.673113Z"
    }
   },
   "cell_type": "code",
   "source": [
    "from utils import paginate_insert_all\n",
    "\n",
    "sql = \"    INTO (PAYMENT_ID, CREATED_AT, REASON) VALUES ('{}', TO_TIMESTAMP('{:%Y-%m-%d %H:%M:%S}', 'YYYY-MM-DD HH24:MI:SS'), '{}') \"\n",
    "@paginate_insert_all\n",
    "def insert_refund(payment_id: str, refund_dt: datetime, refund_reason: str):\n",
    "    print(sql.format(payment_id, refund_dt, refund_reason))\n",
    "    \n",
    "for payment in PICKED_PAYMENT:\n",
    "    insert_refund(payment.id, deviate_time(payment.created_at, 7), get_random_reason())\n",
    "print(\"SELECT 1 FROM DUAL;\")"
   ],
   "id": "9a027be787e186e7",
   "outputs": [
    {
     "data": {
      "text/plain": [
       "136"
      ]
     },
     "execution_count": 10,
     "metadata": {},
     "output_type": "execute_result"
    }
   ],
   "execution_count": 10
  },
  {
   "metadata": {},
   "cell_type": "code",
   "outputs": [],
   "execution_count": null,
   "source": "con.close()",
   "id": "151e4f973368bd87"
  }
 ],
 "metadata": {
  "kernelspec": {
   "display_name": "Python 3",
   "language": "python",
   "name": "python3"
  },
  "language_info": {
   "codemirror_mode": {
    "name": "ipython",
    "version": 2
   },
   "file_extension": ".py",
   "mimetype": "text/x-python",
   "name": "python",
   "nbconvert_exporter": "python",
   "pygments_lexer": "ipython2",
   "version": "2.7.6"
  }
 },
 "nbformat": 4,
 "nbformat_minor": 5
}
