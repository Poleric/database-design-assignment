{
 "cells": [
  {
   "cell_type": "code",
   "execution_count": null,
   "id": "initial_id",
   "metadata": {
    "ExecuteTime": {
     "end_time": "2024-04-18T18:06:35.033969Z",
     "start_time": "2024-04-18T18:06:34.823140Z"
    }
   },
   "outputs": [],
   "source": [
    "from os import getenv\n",
    "from connect_db import connect_db\n",
    "con = connect_db(\n",
    "    username=getenv(\"ORACLE_USERNAME\"),\n",
    "    password=getenv(\"ORACLE_PASSWORD\"),\n",
    "    host=getenv(\"ORACLE_HOST\"),\n",
    "    port=int(getenv(\"ORACLE_PORT\"))\n",
    ")\n",
    "cur = con.cursor()"
   ]
  },
  {
   "cell_type": "code",
   "execution_count": null,
   "id": "42b5c4e5182f47c3",
   "metadata": {
    "ExecuteTime": {
     "end_time": "2024-04-18T18:06:36.571692Z",
     "start_time": "2024-04-18T18:06:36.504026Z"
    }
   },
   "outputs": [],
   "source": [
    "stmt = \"SELECT MEAL_ID FROM MEAL\"\n",
    "MEAL_IDS = [row[0] for row in cur.execute(stmt)]"
   ]
  },
  {
   "cell_type": "code",
   "execution_count": null,
   "id": "68a819db3132140a",
   "metadata": {},
   "outputs": [],
   "source": [
    "import random\n",
    "\n",
    "stmt = \"SELECT FLIGHT_ID FROM FLIGHT\"\n",
    "sql = \"    INTO FLIGHT_MEAL (MEAL_ID, FLIGHT_ID, MEAL_FOR) VALUES ({}, {}, '{}')\"\n",
    "for row in cur.execute(stmt):\n",
    "    for meal_id, target in zip(random.sample(MEAL_IDS, k=4), (\"PASSENGER\", \"CREW\", \"COPILOT\", \"PILOT\")):\n",
    "        print(sql.format(meal_id, row[0], target))"
   ]
  },
  {
   "cell_type": "code",
   "execution_count": null,
   "id": "eee0bca3fe9e9a4b",
   "metadata": {
    "ExecuteTime": {
     "end_time": "2024-04-18T18:07:28.270431Z",
     "start_time": "2024-04-18T18:07:28.221590Z"
    }
   },
   "outputs": [],
   "source": [
    "con.close()"
   ]
  }
 ],
 "metadata": {
  "kernelspec": {
   "display_name": "Python 3",
   "language": "python",
   "name": "python3"
  },
  "language_info": {
   "codemirror_mode": {
    "name": "ipython",
    "version": 2
   },
   "file_extension": ".py",
   "mimetype": "text/x-python",
   "name": "python",
   "nbconvert_exporter": "python",
   "pygments_lexer": "ipython2",
   "version": "2.7.6"
  }
 },
 "nbformat": 4,
 "nbformat_minor": 5
}
