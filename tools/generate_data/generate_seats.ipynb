{
 "cells": [
  {
   "cell_type": "code",
   "execution_count": null,
   "id": "initial_id",
   "metadata": {
    "ExecuteTime": {
     "end_time": "2024-04-18T12:42:19.945092Z",
     "start_time": "2024-04-18T12:42:19.485876Z"
    }
   },
   "outputs": [],
   "source": [
    "from os import getenv\n",
    "from connect_db import connect_db\n",
    "con = connect_db(\n",
    "    username=getenv(\"ORACLE_USERNAME\"),\n",
    "    password=getenv(\"ORACLE_PASSWORD\"),\n",
    "    host=getenv(\"ORACLE_HOST\"),\n",
    "    port=int(getenv(\"ORACLE_PORT\"))\n",
    ")\n",
    "cur = con.cursor()"
   ]
  },
  {
   "cell_type": "code",
   "execution_count": null,
   "id": "fed5e2954b571682",
   "metadata": {
    "ExecuteTime": {
     "end_time": "2024-04-18T12:42:19.950698Z",
     "start_time": "2024-04-18T12:42:19.946726Z"
    }
   },
   "outputs": [],
   "source": [
    "FIRST_CLASS_PERCENTAGE = 0.15\n",
    "BUSINESS_CLASS_PERCENTAGE = 0.30\n",
    "ECONOMY_CLASS_PERCENTAGE = 0.55\n",
    "\n",
    "BUSINESS_CLASS_SEATS_PER_ROW = 4\n",
    "ECONOMY_CLASS_SEAT_PER_ROW = 6\n",
    "ALPHABETS = \"ABCDEF\""
   ]
  },
  {
   "cell_type": "code",
   "execution_count": null,
   "id": "4367aa552367a2e",
   "metadata": {
    "ExecuteTime": {
     "end_time": "2024-04-18T12:55:11.561228Z",
     "start_time": "2024-04-18T12:55:11.553689Z"
    }
   },
   "outputs": [],
   "source": [
    "FIRST_CLASS_CUTOFF = lambda n_seats: round(n_seats * FIRST_CLASS_PERCENTAGE)\n",
    "BUSINESS_CLASS_CUTOFF = lambda n_seats: round(n_seats * BUSINESS_CLASS_PERCENTAGE)\n",
    "\n",
    "def get_location_id(n: int, total_number_of_seats: int, seat_class: str) -> str:\n",
    "    match seat_class:\n",
    "        case \"FIRS\":\n",
    "            return f\"S{n}\"\n",
    "        case \"BUSI\":\n",
    "            n = n - FIRST_CLASS_CUTOFF(total_number_of_seats)\n",
    "            row, col = divmod(n, BUSINESS_CLASS_SEATS_PER_ROW)\n",
    "            return f\"B{row + 1}{ALPHABETS[col]}\"\n",
    "        case \"ECON\":\n",
    "            n = n - BUSINESS_CLASS_CUTOFF(total_number_of_seats)\n",
    "            row, col = divmod(n, ECONOMY_CLASS_SEAT_PER_ROW)\n",
    "            return f\"{row + 1}{ALPHABETS[col]}\"\n",
    "        case _:\n",
    "            print(\"What\")\n",
    "            return \"\"\n",
    "\n",
    "def get_class_id(n: int, total_number_of_seats: int) -> str:\n",
    "    if n < FIRST_CLASS_CUTOFF(total_number_of_seats):\n",
    "        return \"FIRS\"\n",
    "    \n",
    "    if n < BUSINESS_CLASS_CUTOFF(total_number_of_seats):\n",
    "        return \"BUSI\"\n",
    "    \n",
    "    return \"ECON\""
   ]
  },
  {
   "cell_type": "code",
   "execution_count": null,
   "id": "3b4f8cc5ea395dca",
   "metadata": {},
   "outputs": [],
   "source": [
    "stmt = \"\"\"\n",
    "SELECT AIRCRAFT_ID, NUMBER_OF_SEAT \n",
    "FROM AIRCRAFT\n",
    "    JOIN AIRCRAFT_MODEL ON AIRCRAFT.AIRCRAFT_MODEL_ID = AIRCRAFT_MODEL.AIRCRAFT_MODEL_ID\n",
    "\"\"\"\n",
    "query = \"    INTO SEAT (AIRCRAFT_ID, SEAT_CLASS_ID, LOCATION) VALUES ('{}', '{}', '{}')\"\n",
    "for row in cur.execute(stmt):\n",
    "    aircraft_id = row[0]\n",
    "    number_of_seat = row[1]\n",
    "    \n",
    "    for i in range(1, number_of_seat + 1):\n",
    "        seat_class_id = get_class_id(i, number_of_seat)\n",
    "        location = get_location_id(i, number_of_seat, seat_class_id)\n",
    "        print(query.format(aircraft_id, seat_class_id, location))\n",
    "    \n",
    "    "
   ]
  },
  {
   "cell_type": "code",
   "execution_count": null,
   "id": "28a8c44d6b97940d",
   "metadata": {},
   "outputs": [],
   "source": [
    "con.close()"
   ]
  }
 ],
 "metadata": {
  "kernelspec": {
   "display_name": "Python 3",
   "language": "python",
   "name": "python3"
  },
  "language_info": {
   "codemirror_mode": {
    "name": "ipython",
    "version": 2
   },
   "file_extension": ".py",
   "mimetype": "text/x-python",
   "name": "python",
   "nbconvert_exporter": "python",
   "pygments_lexer": "ipython2",
   "version": "2.7.6"
  }
 },
 "nbformat": 4,
 "nbformat_minor": 5
}
