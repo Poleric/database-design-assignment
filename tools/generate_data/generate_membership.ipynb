{
 "cells": [
  {
   "cell_type": "code",
   "id": "initial_id",
   "metadata": {
    "collapsed": true,
    "ExecuteTime": {
     "end_time": "2024-04-30T02:47:13.861239Z",
     "start_time": "2024-04-30T02:47:13.647011Z"
    }
   },
   "source": [
    "from os import getenv\n",
    "from connect_db import connect_db\n",
    "con = connect_db(\n",
    "    username=getenv(\"ORACLE_USERNAME\"),\n",
    "    password=getenv(\"ORACLE_PASSWORD\"),\n",
    "    host=getenv(\"ORACLE_HOST\"),\n",
    "    port=int(getenv(\"ORACLE_PORT\"))\n",
    ")\n",
    "cur = con.cursor()"
   ],
   "outputs": [],
   "execution_count": 1
  },
  {
   "metadata": {
    "ExecuteTime": {
     "end_time": "2024-04-30T02:47:20.599757Z",
     "start_time": "2024-04-30T02:47:20.412922Z"
    }
   },
   "cell_type": "code",
   "source": [
    "import numpy as np\n",
    "\n",
    "membership_types = ['GOLD', 'SILV', 'BRNZ']\n",
    "weights = [1, 5, 15]\n",
    "weights = np.array(weights) / sum(weights) \n",
    "\n",
    "MEMBERSHIP_CHANCE = 0.05\n",
    "def is_membership() -> bool:\n",
    "    return np.random.randint(1, int(np.round(1 // MEMBERSHIP_CHANCE)) + 1) == 1\n",
    "\n",
    "def get_random_membership() -> str:\n",
    "    return np.random.choice(membership_types, size=1, p=weights).item()"
   ],
   "id": "61f638a30520e43c",
   "outputs": [],
   "execution_count": 2
  },
  {
   "metadata": {},
   "cell_type": "code",
   "source": [
    "from utils import paginate_insert_all\n",
    "\n",
    "sql = \"    INTO MEMBERSHIP (ACCOUNT_ID, MEMBERSHIP_TYPE_ID) VALUES ({}, '{}')\"\n",
    "@paginate_insert_all\n",
    "def insert_membership(account_id: str, membership_type):\n",
    "    print(sql.format(account_id, membership_type))\n",
    "    \n",
    "\n",
    "stmt = \"SELECT ACCOUNT_ID FROM ACCOUNT\"\n",
    "for row in cur.execute(stmt):\n",
    "    if is_membership():\n",
    "        insert_membership(row[0], get_random_membership())\n",
    "print(\"SELECT 1 FROM DUAL;\")"
   ],
   "id": "74df8243a39b282",
   "outputs": [],
   "execution_count": null
  },
  {
   "metadata": {
    "ExecuteTime": {
     "end_time": "2024-04-18T16:12:05.831447Z",
     "start_time": "2024-04-18T16:12:05.747284Z"
    }
   },
   "cell_type": "code",
   "source": "con.close()",
   "id": "a12b6e67a757e12b",
   "outputs": [],
   "execution_count": 17
  }
 ],
 "metadata": {
  "kernelspec": {
   "display_name": "Python 3",
   "language": "python",
   "name": "python3"
  },
  "language_info": {
   "codemirror_mode": {
    "name": "ipython",
    "version": 2
   },
   "file_extension": ".py",
   "mimetype": "text/x-python",
   "name": "python",
   "nbconvert_exporter": "python",
   "pygments_lexer": "ipython2",
   "version": "2.7.6"
  }
 },
 "nbformat": 4,
 "nbformat_minor": 5
}
