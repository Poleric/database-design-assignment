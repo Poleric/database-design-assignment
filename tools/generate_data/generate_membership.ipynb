{
 "cells": [
  {
   "cell_type": "code",
   "execution_count": null,
   "id": "initial_id",
   "metadata": {
    "ExecuteTime": {
     "end_time": "2024-04-18T15:44:47.031400Z",
     "start_time": "2024-04-18T15:44:46.582197Z"
    }
   },
   "outputs": [],
   "source": [
    "from os import getenv\n",
    "from connect_db import connect_db\n",
    "con = connect_db(\n",
    "    username=getenv(\"ORACLE_USERNAME\"),\n",
    "    password=getenv(\"ORACLE_PASSWORD\"),\n",
    "    host=getenv(\"ORACLE_HOST\"),\n",
    "    port=int(getenv(\"ORACLE_PORT\"))\n",
    ")\n",
    "cur = con.cursor()"
   ]
  },
  {
   "cell_type": "code",
   "execution_count": null,
   "id": "61f638a30520e43c",
   "metadata": {
    "ExecuteTime": {
     "end_time": "2024-04-18T15:56:07.806726Z",
     "start_time": "2024-04-18T15:56:07.799716Z"
    }
   },
   "outputs": [],
   "source": [
    "import numpy as np\n",
    "\n",
    "membership_types = ['GOLD', 'SILV', 'BRNZ']\n",
    "weights = [1, 5, 15]\n",
    "weights = np.array(weights) / sum(weights) \n",
    "\n",
    "MEMBERSHIP_CHANCE = 0.05\n",
    "def is_membership() -> bool:\n",
    "    return np.random.randint(1, int(np.round(1 // MEMBERSHIP_CHANCE)) + 1) == 1\n",
    "\n",
    "def get_random_membership() -> str:\n",
    "    return np.random.choice(membership_types, size=1, p=weights).item()"
   ]
  },
  {
   "cell_type": "code",
   "execution_count": null,
   "id": "74df8243a39b282",
   "metadata": {
    "ExecuteTime": {
     "end_time": "2024-04-18T15:56:11.291016Z",
     "start_time": "2024-04-18T15:56:09.580203Z"
    }
   },
   "outputs": [],
   "source": [
    "stmt = \"SELECT ACCOUNT_ID FROM ACCOUNT\"\n",
    "sql = \"    INTO MEMBERSHIP (ACCOUNT_ID, MEMBERSHIP_TYPE_ID) VALUES ({}, '{}')\"\n",
    "for row in cur.execute(stmt):\n",
    "    if is_membership():\n",
    "        print(sql.format(row[0], get_random_membership()))"
   ]
  },
  {
   "cell_type": "code",
   "execution_count": null,
   "id": "a12b6e67a757e12b",
   "metadata": {
    "ExecuteTime": {
     "end_time": "2024-04-18T16:12:05.831447Z",
     "start_time": "2024-04-18T16:12:05.747284Z"
    }
   },
   "outputs": [],
   "source": [
    "con.close()"
   ]
  }
 ],
 "metadata": {
  "kernelspec": {
   "display_name": "Python 3",
   "language": "python",
   "name": "python3"
  },
  "language_info": {
   "codemirror_mode": {
    "name": "ipython",
    "version": 2
   },
   "file_extension": ".py",
   "mimetype": "text/x-python",
   "name": "python",
   "nbconvert_exporter": "python",
   "pygments_lexer": "ipython2",
   "version": "2.7.6"
  }
 },
 "nbformat": 4,
 "nbformat_minor": 5
}
