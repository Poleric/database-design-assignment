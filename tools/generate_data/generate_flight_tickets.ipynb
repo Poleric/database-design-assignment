{
 "cells": [
  {
   "cell_type": "code",
   "execution_count": null,
   "id": "initial_id",
   "metadata": {},
   "outputs": [],
   "source": [
    "from os import getenv\n",
    "from connect_db import connect_db\n",
    "con = connect_db(\n",
    "    username=getenv(\"ORACLE_USERNAME\"),\n",
    "    password=getenv(\"ORACLE_PASSWORD\"),\n",
    "    host=getenv(\"ORACLE_HOST\"),\n",
    "    port=int(getenv(\"ORACLE_PORT\"))\n",
    ")\n",
    "cur = con.cursor()"
   ]
  },
  {
   "cell_type": "code",
   "execution_count": null,
   "id": "30d2143cf9e7b576",
   "metadata": {
    "ExecuteTime": {
     "end_time": "2024-04-19T10:20:20.735181Z",
     "start_time": "2024-04-19T10:20:20.731473Z"
    }
   },
   "outputs": [],
   "source": [
    "SEATS_PER_BOARDING_GROUP = 40"
   ]
  },
  {
   "cell_type": "code",
   "execution_count": null,
   "id": "1f1bee6edd5905b2",
   "metadata": {
    "ExecuteTime": {
     "end_time": "2024-04-19T10:20:21.405493Z",
     "start_time": "2024-04-19T10:20:21.324175Z"
    }
   },
   "outputs": [],
   "source": [
    "import networkx as nx\n",
    "\n",
    "graph = nx.Graph()\n",
    "stmt = \"SELECT ROUTE_ID, FROM_AIRPORT_ID, TO_AIRPORT_ID, DISTANCE_IN_KM FROM ROUTE\"\n",
    "\n",
    "for row in cur.execute(stmt):\n",
    "    graph.add_edge(row[1], row[2], weight=row[3], route_id=row[0])"
   ]
  },
  {
   "cell_type": "code",
   "execution_count": null,
   "id": "a641861891568c49",
   "metadata": {
    "ExecuteTime": {
     "end_time": "2024-04-19T10:20:21.829941Z",
     "start_time": "2024-04-19T10:20:21.726972Z"
    }
   },
   "outputs": [],
   "source": [
    "import numpy as np\n",
    "stmt = \"SELECT FROM_AIRPORT_ID FROM ROUTE\"\n",
    "AIRPORTS = list(set(row[0] for row in cur.execute(stmt)))\n",
    "AIRPORT_WEIGHTS = [1, 2, 1, 1, 6, 2, 2, 1, 3, 4, 1, 1, 2, 2, 1, 3, 1]\n",
    "AIRPORT_WEIGHTS = np.array(AIRPORT_WEIGHTS) / sum(AIRPORT_WEIGHTS)"
   ]
  },
  {
   "cell_type": "code",
   "execution_count": null,
   "id": "a5965d7325bd62e",
   "metadata": {
    "ExecuteTime": {
     "end_time": "2024-04-19T10:20:22.119646Z",
     "start_time": "2024-04-19T10:20:22.114379Z"
    }
   },
   "outputs": [],
   "source": [
    "from typing import Iterable\n",
    "\n",
    "def get_random_airports() -> Iterable[str]:\n",
    "    n = 1\n",
    "    for i in range(len(AIRPORTS)):\n",
    "        if np.random.randint(1, np.power(2, i) + 1) != 1:\n",
    "            break\n",
    "        n += 1\n",
    "\n",
    "    yield from np.random.choice(AIRPORTS, size=n)"
   ]
  },
  {
   "cell_type": "code",
   "execution_count": null,
   "id": "8f06148b7bf86cd",
   "metadata": {
    "ExecuteTime": {
     "end_time": "2024-04-19T10:20:22.526658Z",
     "start_time": "2024-04-19T10:20:22.521330Z"
    }
   },
   "outputs": [],
   "source": [
    "def get_random_number_of_tickets(max_tickets: int = 10) -> int:\n",
    "    for i in range(max_tickets):\n",
    "        if np.random.randint(1, np.power(2, i) + 1) != 1:\n",
    "            return i\n",
    "    return max_tickets"
   ]
  },
  {
   "cell_type": "code",
   "execution_count": null,
   "id": "43885c481043ac84",
   "metadata": {
    "ExecuteTime": {
     "end_time": "2024-04-19T10:20:26.018848Z",
     "start_time": "2024-04-19T10:20:22.927491Z"
    }
   },
   "outputs": [],
   "source": [
    "from collections import defaultdict\n",
    "ACCOUNT_AIRPORT_PREFERENCES: defaultdict[str, list[str]] = defaultdict(list)\n",
    "stmt = \"SELECT ACCOUNT_ID FROM ACCOUNT\"\n",
    "\n",
    "for row in cur.execute(stmt):\n",
    "    for airport_id in get_random_airports():\n",
    "        ACCOUNT_AIRPORT_PREFERENCES[row[0]].append(airport_id)"
   ]
  },
  {
   "cell_type": "code",
   "execution_count": null,
   "id": "cdde5b02beb50b8d",
   "metadata": {
    "ExecuteTime": {
     "end_time": "2024-04-19T10:20:26.559934Z",
     "start_time": "2024-04-19T10:20:26.021071Z"
    }
   },
   "outputs": [],
   "source": [
    "def get_random_travel_rate():\n",
    "    return np.random.choice(\n",
    "        np.arange(1, 51),\n",
    "        p=np.concatenate((\n",
    "            np.ones(10) * 0.8 / 10,\n",
    "            np.ones(10) * 0.1 / 10,\n",
    "            np.ones(10) * 0.06 / 10,\n",
    "            np.ones(10) * 0.03 / 10,\n",
    "            np.ones(10) * 0.01 / 10,\n",
    "        ))\n",
    "    ).item()\n",
    "ACCOUNT_TRAVEL_RATE = {account_id: get_random_travel_rate() for account_id in ACCOUNT_AIRPORT_PREFERENCES}"
   ]
  },
  {
   "cell_type": "code",
   "execution_count": null,
   "id": "48f299f35b8a534b",
   "metadata": {
    "ExecuteTime": {
     "end_time": "2024-04-19T10:20:26.568354Z",
     "start_time": "2024-04-19T10:20:26.561476Z"
    }
   },
   "outputs": [],
   "source": [
    "from functools import cache\n",
    "import itertools\n",
    "\n",
    "@cache\n",
    "def get_airports_stops(from_airport: str, to_airport: str) -> list[str]:\n",
    "    return nx.dijkstra_path(graph, from_airport, to_airport)\n",
    "\n",
    "@cache\n",
    "def get_routes(from_airport: str, to_airport: str) -> list[str]:\n",
    "    out = []\n",
    "    for i, j in itertools.pairwise(get_airports_stops(from_airport, to_airport)):\n",
    "        out.append(graph.get_edge_data(i, j)[\"route_id\"])\n",
    "    return out"
   ]
  },
  {
   "cell_type": "code",
   "execution_count": null,
   "id": "11ef85cb48cdf793",
   "metadata": {
    "ExecuteTime": {
     "end_time": "2024-04-19T10:20:28.305340Z",
     "start_time": "2024-04-19T10:20:26.573049Z"
    }
   },
   "outputs": [],
   "source": [
    "PRICE_PER_KM = 0.238\n",
    "def calc_flight_price(distance: int, number_of_seats: int):\n",
    "    return distance * PRICE_PER_KM\n",
    "\n",
    "stmt = \"\"\"SELECT FLIGHT_ID, DISTANCE_IN_KM, NUMBER_OF_SEAT FROM FLIGHT\n",
    "    JOIN ROUTE ON FLIGHT.ROUTE_ID = ROUTE.ROUTE_ID\n",
    "    JOIN AIRCRAFT ON FLIGHT.AIRCRAFT_ID = AIRCRAFT.AIRCRAFT_ID\n",
    "    JOIN AIRCRAFT_MODEL ON AIRCRAFT.AIRCRAFT_MODEL_ID = AIRCRAFT_MODEL.AIRCRAFT_MODEL_ID\"\"\"\n",
    "FLIGHT_PRICE = {row[0]: calc_flight_price(row[1], row[2]) for row in cur.execute(stmt)}"
   ]
  },
  {
   "cell_type": "code",
   "execution_count": null,
   "id": "a5ad74d6ade82876",
   "metadata": {
    "ExecuteTime": {
     "end_time": "2024-04-19T10:20:28.314682Z",
     "start_time": "2024-04-19T10:20:28.307253Z"
    }
   },
   "outputs": [],
   "source": [
    "import random\n",
    "@cache\n",
    "def find_seats(aircraft_id: str, seat_class_weight: tuple[int] = (1, 5, 20)) -> list[tuple[str, str]]:\n",
    "    seat_class = random.sample((\"ECON\", \"BUSI\", \"FIRS\"), k=1, counts=seat_class_weight)[0]\n",
    "    stmt = f\"\"\"SELECT SEAT_ID, SEAT_CLASS_ID FROM SEAT WHERE AIRCRAFT_ID = '{aircraft_id}' AND SEAT_CLASS_ID = '{seat_class}'\"\"\"\n",
    "    return [(row[0], row[1]) for row in cur.execute(stmt)]"
   ]
  },
  {
   "cell_type": "code",
   "execution_count": null,
   "id": "54c44a5fc3769931",
   "metadata": {
    "ExecuteTime": {
     "end_time": "2024-04-19T10:20:28.329181Z",
     "start_time": "2024-04-19T10:20:28.317674Z"
    }
   },
   "outputs": [],
   "source": [
    "from datetime import datetime, timedelta\n",
    "USED_SEAT: defaultdict[str, set[str]] = defaultdict(set)\n",
    "\n",
    "def find_closest_flight(current_dt: datetime, route_id: str, n_tickets: int) -> tuple[str, datetime, list[str], list[str]] | None:\n",
    "    stmt = f\"\"\"SELECT * FROM (\n",
    "        SELECT FLIGHT.FLIGHT_ID, DEPARTURE_DATETIME, AIRCRAFT.AIRCRAFT_ID, EST_DURATION_IN_HOUR\n",
    "        FROM FLIGHT\n",
    "            JOIN AIRCRAFT ON FLIGHT.AIRCRAFT_ID = AIRCRAFT.AIRCRAFT_ID\n",
    "            JOIN AIRCRAFT_MODEL ON AIRCRAFT.AIRCRAFT_MODEL_ID = AIRCRAFT_MODEL.AIRCRAFT_MODEL_ID\n",
    "        WHERE ROUTE_ID = '{route_id}' AND DEPARTURE_DATETIME >= TO_TIMESTAMP('{current_dt:%Y-%m-%d %H:%M:%S}', 'YYYY-MM-DD HH24:MI:SS')\n",
    "                  )\n",
    "    WHERE ROWNUM <= 50\"\"\"\n",
    "    for row in cur.execute(stmt):\n",
    "        seats = set()\n",
    "        seat_classes = {}\n",
    "        for seat, seat_class in find_seats(row[2]):\n",
    "            seats.add(seat)\n",
    "            seat_classes[seat] = seat_class\n",
    "        seats -= USED_SEAT[row[0]]\n",
    "\n",
    "        if len(seats) < n_tickets:\n",
    "            continue\n",
    "\n",
    "        seats = list(seats)\n",
    "        seats = seats[:n_tickets]\n",
    "        for seat in seats:\n",
    "            USED_SEAT[row[0]].add(seat)\n",
    "        return row[0], row[1] + timedelta(hours=row[3] + 12), seats, list(seat_classes[seat] for seat in seats)"
   ]
  },
  {
   "cell_type": "code",
   "execution_count": null,
   "id": "121e96c9e9a56f9b",
   "metadata": {
    "ExecuteTime": {
     "end_time": "2024-04-19T10:20:33.450507Z",
     "start_time": "2024-04-19T10:20:30.750847Z"
    }
   },
   "outputs": [],
   "source": [
    "ACCOUNT_WAIT_UNTIL: dict[str, datetime] = {}\n",
    "stmt = \"SELECT ACCOUNT_ID, JOINED_DATETIME FROM ACCOUNT\"\n",
    "for row in cur.execute(stmt):\n",
    "    ACCOUNT_WAIT_UNTIL[row[0]] = row[1]"
   ]
  },
  {
   "cell_type": "code",
   "execution_count": null,
   "id": "f5560af18a3f4985",
   "metadata": {
    "ExecuteTime": {
     "end_time": "2024-04-19T10:20:33.461696Z",
     "start_time": "2024-04-19T10:20:33.454810Z"
    }
   },
   "outputs": [],
   "source": [
    "def get_payment_method() -> str:\n",
    "    return random.choices((\"CRCD\", \"DBCD\", \"PYPL\", \"BANK\", \"CASH\"), k=1, weights=[0.3, 0.2, 0.1, 0.2, 0.2])[0]"
   ]
  },
  {
   "cell_type": "code",
   "execution_count": null,
   "id": "6abc0df5f03c2314",
   "metadata": {
    "ExecuteTime": {
     "end_time": "2024-04-19T10:20:33.517813Z",
     "start_time": "2024-04-19T10:20:33.465086Z"
    }
   },
   "outputs": [],
   "source": [
    "from collections import Counter\n",
    "\n",
    "payment_i = 0\n",
    "def PAYMENT_ID_GEN():\n",
    "    global payment_i\n",
    "    out = f\"P{payment_i:08}\"\n",
    "    payment_i += 1\n",
    "    return out\n",
    "\n",
    "flight_ticket_i: Counter[str, int] = Counter()\n",
    "def TICKET_ID_GEN(dt: datetime):\n",
    "    global flight_ticket_i\n",
    "    formatted_dt = f\"{dt:%y%m}\"\n",
    "    out = f\"SFS{formatted_dt}{flight_ticket_i[formatted_dt]:06}\"\n",
    "    flight_ticket_i[formatted_dt] += 1\n",
    "    return out"
   ]
  },
  {
   "cell_type": "code",
   "execution_count": null,
   "id": "757a3403ad2ec138",
   "metadata": {},
   "outputs": [],
   "source": [
    "flight_ticket_file = open(\"flight_ticket.sql\", \"w\")\n",
    "flight_ticket_fmt = \"    INTO FLIGHT_TICKET (ACCOUNT_ID, PAYMENT_ID, CREATED_AT, BOARDING_GROUP, TICKET_PRICE, TICKET_STATUS) VALUES ({}, '{}', TO_TIMESTAMP('{:%Y-%m-%d %H:%M:%S}', 'YYYY-MM-DD HH24:MI:SS'), {}, {:.2f}, 'Completed')\\n\"\n",
    "flight_ticket_k = 0\n",
    "flight_sequence_file = open(\"flight_seq.sql\" , \"w\")\n",
    "flight_sequence_fmt = \"    INTO FLIGHT_SEQUENCE (FLIGHT_TICKET_ID, FLIGHT_ID, SEAT_ID, FLIGHT_SEQUENCE) VALUES ('{}', {}, '{}', {})\\n\"\n",
    "flight_sequence_k = 0\n",
    "payment_file = open(\"payment.sql\", \"w\")\n",
    "payment_fmt = \"    INTO PAYMENT (PAYMENT_METHOD_ID, ACCOUNT_ID, CREATED_AT, AMOUNT) VALUES ('{}', {}, TO_TIMESTAMP('{:%Y-%m-%d %H:%M:%S}', 'YYYY-MM-DD HH24:MI:SS'), {:.2f})\\n\"\n",
    "payment_k = 0\n",
    "for fp in (flight_ticket_file, flight_sequence_file, payment_file):\n",
    "    fp.write(\"INSERT ALL\\n\")\n",
    "\n",
    "stmt = \"\"\n",
    "dt = datetime(2023, 1, 1)\n",
    "\n",
    "try:\n",
    "    while dt < datetime(2024, 4, 19, 15):\n",
    "        accounts_to_select = filter(lambda t: t[1] > dt, ACCOUNT_WAIT_UNTIL.items())\n",
    "    \n",
    "        accounts_selected = []\n",
    "        for account, _ in accounts_to_select:\n",
    "            if np.random.randint(1, 100 - ACCOUNT_TRAVEL_RATE[account]) == 1:\n",
    "                accounts_selected.append(account)\n",
    "    \n",
    "        for account_selected in accounts_selected:\n",
    "            payment_id = PAYMENT_ID_GEN()\n",
    "            payment_amt = 0\n",
    "    \n",
    "            start_place, end_place = random.sample(ACCOUNT_AIRPORT_PREFERENCES[account_selected], k=2)\n",
    "            routes = get_routes(start_place, end_place)\n",
    "            # 1 1 S1\n",
    "            # 2 1 S2\n",
    "            # 1 2 S3\n",
    "            # 2 2 S4\n",
    "            n_tickets = get_random_number_of_tickets()\n",
    "            ticket_ids = []\n",
    "            ticket_prices = []\n",
    "            for n in range(n_tickets):\n",
    "                ticket_ids.append(TICKET_ID_GEN(dt))\n",
    "                ticket_prices.append(0)\n",
    "    \n",
    "            cancel = False\n",
    "            temps = []\n",
    "            for route in routes:\n",
    "                temp = find_closest_flight(ACCOUNT_WAIT_UNTIL[account_selected], route, n_tickets)\n",
    "                temps.append(temp)\n",
    "                if temp is None:\n",
    "                    cancel = True\n",
    "                    break\n",
    "    \n",
    "            if cancel or not temps:\n",
    "                continue\n",
    "    \n",
    "            for route_seq, (flight_id, wait_until, seat_ids, seat_classes) in enumerate(temps, start=1):\n",
    "                ACCOUNT_WAIT_UNTIL[account_selected] = wait_until\n",
    "    \n",
    "                flight_price = FLIGHT_PRICE[flight_id]\n",
    "    \n",
    "                for i, (ticket_id, seat_id, seat_class) in enumerate(zip(ticket_ids, seat_ids, seat_classes)):\n",
    "                    flight_sequence_file.write(flight_sequence_fmt.format(ticket_id, flight_id, seat_id, route_seq))\n",
    "    \n",
    "                    flight_sequence_k += 1\n",
    "                    if flight_sequence_k >= 2000:\n",
    "                        flight_sequence_file.write(\"SELECT 1 FROM DUAL;\\n\")\n",
    "                        flight_sequence_file.write(\"INSERT ALL\\n\")\n",
    "                        flight_sequence_k = 0\n",
    "    \n",
    "                    seat_rate = 1\n",
    "                    if seat_class == \"BUSI\":\n",
    "                        seat_rate = 2\n",
    "                    elif seat_class == \"FIRS\":\n",
    "                        seat_rate = 3\n",
    "    \n",
    "                    ticket_prices[i] += flight_price * seat_rate\n",
    "                    payment_amt += flight_price * seat_rate\n",
    "            for ticket_price in ticket_prices:\n",
    "                flight_ticket_file.write(flight_ticket_fmt.format(account_selected, payment_id, dt, random.randint(1, 10), ticket_price)) # TODO: fix boarding group\n",
    "    \n",
    "                flight_ticket_k += 1\n",
    "                if flight_ticket_k >= 2000:\n",
    "                    flight_ticket_file.write(\"SELECT 1 FROM DUAL;\\n\")\n",
    "                    flight_ticket_file.write(\"INSERT ALL\\n\")\n",
    "                    flight_ticket_k = 0\n",
    "            \n",
    "            payment_file.write(payment_fmt.format(get_payment_method(), account_selected, dt, payment_amt))\n",
    "            payment_k += 1\n",
    "            if payment_k >= 2000:\n",
    "                payment_file.write(\"SELECT 1 FROM DUAL;\\n\")\n",
    "                payment_file.write(\"INSERT ALL\\n\")\n",
    "                payment_k = 0\n",
    "            dt += timedelta(minutes=random.randint(1, 360))\n",
    "except KeyboardInterrupt:\n",
    "    print(\"stopping\")\n",
    "\n",
    "for fp in (flight_ticket_file, flight_sequence_file, payment_file):\n",
    "    fp.write(\"SELECT 1 FROM DUAL;\\n\")\n",
    "\n",
    "flight_ticket_file.close()\n",
    "flight_sequence_file.close()\n",
    "payment_file.close()"
   ]
  },
  {
   "cell_type": "code",
   "execution_count": null,
   "id": "688fd04c5a71b2fc",
   "metadata": {},
   "outputs": [],
   "source": [
    "con.close()"
   ]
  }
 ],
 "metadata": {
  "kernelspec": {
   "display_name": "Python 3",
   "language": "python",
   "name": "python3"
  },
  "language_info": {
   "codemirror_mode": {
    "name": "ipython",
    "version": 2
   },
   "file_extension": ".py",
   "mimetype": "text/x-python",
   "name": "python",
   "nbconvert_exporter": "python",
   "pygments_lexer": "ipython2",
   "version": "2.7.6"
  }
 },
 "nbformat": 4,
 "nbformat_minor": 5
}
