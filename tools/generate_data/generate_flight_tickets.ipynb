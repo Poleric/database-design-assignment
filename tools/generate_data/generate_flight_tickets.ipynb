{
 "cells": [
  {
   "cell_type": "code",
   "execution_count": null,
   "id": "initial_id",
   "metadata": {
    "ExecuteTime": {
     "end_time": "2024-04-27T04:26:48.239612Z",
     "start_time": "2024-04-27T04:26:47.947075Z"
    }
   },
   "outputs": [],
   "source": [
    "from os import getenv\n",
    "from connect_db import connect_db\n",
    "con = connect_db(\n",
    "    username=getenv(\"ORACLE_USERNAME\"),\n",
    "    password=getenv(\"ORACLE_PASSWORD\"),\n",
    "    host=getenv(\"ORACLE_HOST\"),\n",
    "    port=int(getenv(\"ORACLE_PORT\"))\n",
    ")\n",
    "cur = con.cursor()"
   ]
  },
  {
   "cell_type": "code",
   "execution_count": null,
   "id": "30d2143cf9e7b576",
   "metadata": {
    "ExecuteTime": {
     "end_time": "2024-04-27T04:26:48.550953Z",
     "start_time": "2024-04-27T04:26:48.547923Z"
    }
   },
   "outputs": [],
   "source": [
    "SEATS_PER_BOARDING_GROUP = 40"
   ]
  },
  {
   "cell_type": "code",
   "execution_count": null,
   "id": "1f1bee6edd5905b2",
   "metadata": {
    "ExecuteTime": {
     "end_time": "2024-04-27T04:26:49.301957Z",
     "start_time": "2024-04-27T04:26:48.978411Z"
    }
   },
   "outputs": [],
   "source": [
    "import networkx as nx\n",
    "\n",
    "graph = nx.Graph()\n",
    "stmt = \"SELECT ROUTE_ID, FROM_AIRPORT_ID, TO_AIRPORT_ID, DISTANCE_IN_KM FROM ROUTE\"\n",
    "\n",
    "for row in cur.execute(stmt):\n",
    "    graph.add_edge(row[1], row[2], weight=row[3], route_id=row[0])"
   ]
  },
  {
   "cell_type": "code",
   "execution_count": null,
   "id": "a641861891568c49",
   "metadata": {
    "ExecuteTime": {
     "end_time": "2024-04-27T04:26:49.519008Z",
     "start_time": "2024-04-27T04:26:49.425953Z"
    }
   },
   "outputs": [],
   "source": [
    "import numpy as np\n",
    "stmt = \"SELECT FROM_AIRPORT_ID FROM ROUTE\"\n",
    "AIRPORTS = list(set(row[0] for row in cur.execute(stmt)))\n",
    "AIRPORT_WEIGHTS = [1, 2, 1, 1, 6, 2, 2, 1, 3, 4, 1, 1, 2, 2, 1, 3, 1]\n",
    "AIRPORT_WEIGHTS = np.array(AIRPORT_WEIGHTS) / sum(AIRPORT_WEIGHTS)"
   ]
  },
  {
   "cell_type": "code",
   "execution_count": null,
   "id": "a5965d7325bd62e",
   "metadata": {
    "ExecuteTime": {
     "end_time": "2024-04-27T04:26:49.777009Z",
     "start_time": "2024-04-27T04:26:49.772310Z"
    }
   },
   "outputs": [],
   "source": [
    "from typing import Iterable\n",
    "\n",
    "def get_random_airports(start_n: int = 1) -> Iterable[str]:\n",
    "    for i in range(len(AIRPORTS) - start_n):\n",
    "        if np.random.randint(1, np.power(2, i) + 1) != 1:\n",
    "            break\n",
    "        start_n += 1\n",
    "\n",
    "    yield from np.random.choice(AIRPORTS, size=start_n, replace=False, p=AIRPORT_WEIGHTS)"
   ]
  },
  {
   "cell_type": "code",
   "execution_count": null,
   "id": "8f06148b7bf86cd",
   "metadata": {
    "ExecuteTime": {
     "end_time": "2024-04-27T04:26:50.208367Z",
     "start_time": "2024-04-27T04:26:50.204741Z"
    }
   },
   "outputs": [],
   "source": [
    "def get_random_number_of_tickets(max_tickets: int = 10) -> int:\n",
    "    for i in range(max_tickets):\n",
    "        if np.random.randint(1, np.power(2, i) + 1) != 1:\n",
    "            return i\n",
    "    return max_tickets"
   ]
  },
  {
   "cell_type": "code",
   "execution_count": null,
   "id": "43885c481043ac84",
   "metadata": {
    "ExecuteTime": {
     "end_time": "2024-04-27T04:27:17.324580Z",
     "start_time": "2024-04-27T04:26:50.634343Z"
    }
   },
   "outputs": [],
   "source": [
    "from collections import defaultdict\n",
    "ACCOUNT_AIRPORT_PREFERENCES: defaultdict[str, list[str]] = defaultdict(list)\n",
    "stmt = \"SELECT ACCOUNT_ID FROM ACCOUNT\"\n",
    "\n",
    "for row in cur.execute(stmt):\n",
    "    for airport_id in get_random_airports():\n",
    "        ACCOUNT_AIRPORT_PREFERENCES[row[0]].append(airport_id)"
   ]
  },
  {
   "cell_type": "code",
   "execution_count": null,
   "id": "cdde5b02beb50b8d",
   "metadata": {
    "ExecuteTime": {
     "end_time": "2024-04-27T04:27:21.022745Z",
     "start_time": "2024-04-27T04:27:17.325775Z"
    }
   },
   "outputs": [],
   "source": [
    "def get_random_travel_rate():\n",
    "    return np.random.choice(\n",
    "        np.arange(20, 100),\n",
    "        p=np.concatenate((\n",
    "            np.ones(20) * 0.1 / 20,\n",
    "            np.ones(20) * 0.1 / 20,\n",
    "            np.ones(20) * 0.3 / 20,\n",
    "            np.ones(20) * 0.5 / 20,\n",
    "        ))\n",
    "    ).item()\n",
    "ACCOUNT_TRAVEL_RATE = {account_id: get_random_travel_rate() for account_id in ACCOUNT_AIRPORT_PREFERENCES}"
   ]
  },
  {
   "cell_type": "code",
   "execution_count": null,
   "id": "48f299f35b8a534b",
   "metadata": {
    "ExecuteTime": {
     "end_time": "2024-04-27T04:27:21.026987Z",
     "start_time": "2024-04-27T04:27:21.023560Z"
    }
   },
   "outputs": [],
   "source": [
    "from functools import cache\n",
    "import itertools\n",
    "\n",
    "@cache\n",
    "def get_airports_stops(from_airport: str, to_airport: str) -> list[str]:\n",
    "    return nx.dijkstra_path(graph, from_airport, to_airport)\n",
    "\n",
    "@cache\n",
    "def get_routes(from_airport: str, to_airport: str) -> list[str]:\n",
    "    out = []\n",
    "    for i, j in itertools.pairwise(get_airports_stops(from_airport, to_airport)):\n",
    "        out.append(graph.get_edge_data(i, j)[\"route_id\"])\n",
    "    return out"
   ]
  },
  {
   "cell_type": "code",
   "execution_count": null,
   "id": "11ef85cb48cdf793",
   "metadata": {
    "ExecuteTime": {
     "end_time": "2024-04-27T04:27:21.791263Z",
     "start_time": "2024-04-27T04:27:21.028334Z"
    }
   },
   "outputs": [],
   "source": [
    "PRICE_PER_KM = 0.238\n",
    "def calc_flight_price(distance: int, number_of_seats: int):\n",
    "    return distance * PRICE_PER_KM\n",
    "\n",
    "stmt = \"\"\"SELECT FLIGHT_ID, DISTANCE_IN_KM, NUMBER_OF_SEAT FROM FLIGHT\n",
    "    JOIN ROUTE ON FLIGHT.ROUTE_ID = ROUTE.ROUTE_ID\n",
    "    JOIN AIRCRAFT ON FLIGHT.AIRCRAFT_ID = AIRCRAFT.AIRCRAFT_ID\n",
    "    JOIN AIRCRAFT_MODEL ON AIRCRAFT.AIRCRAFT_MODEL_ID = AIRCRAFT_MODEL.AIRCRAFT_MODEL_ID\"\"\"\n",
    "FLIGHT_PRICE = {row[0]: calc_flight_price(row[1], row[2]) for row in cur.execute(stmt)}"
   ]
  },
  {
   "cell_type": "code",
   "execution_count": null,
   "id": "a5ad74d6ade82876",
   "metadata": {
    "ExecuteTime": {
     "end_time": "2024-04-27T04:27:21.802459Z",
     "start_time": "2024-04-27T04:27:21.793316Z"
    }
   },
   "outputs": [],
   "source": [
    "import random\n",
    "@cache\n",
    "def find_seats(aircraft_id: str, seat_class_weight: tuple[int] = (20, 5, 1)) -> list[tuple[str, str]]:\n",
    "    seat_class = random.sample((\"ECON\", \"BUSI\", \"FIRS\"), k=1, counts=seat_class_weight)[0]\n",
    "    stmt = f\"\"\"SELECT SEAT_ID, SEAT_CLASS_ID FROM SEAT WHERE AIRCRAFT_ID = '{aircraft_id}' AND SEAT_CLASS_ID = '{seat_class}'\"\"\"\n",
    "    return [(row[0], row[1]) for row in cur.execute(stmt)]"
   ]
  },
  {
   "cell_type": "code",
   "execution_count": null,
   "id": "54c44a5fc3769931",
   "metadata": {
    "ExecuteTime": {
     "end_time": "2024-04-27T04:27:23.328585Z",
     "start_time": "2024-04-27T04:27:21.804931Z"
    }
   },
   "outputs": [],
   "source": [
    "from datetime import datetime, timedelta\n",
    "ROUTE_TO_FLIGHT: defaultdict[str, list[str]] = defaultdict(list)\n",
    "stmt = \"SELECT FLIGHT_ID, ROUTE_ID FROM FLIGHT\"\n",
    "for row in cur.execute(stmt):\n",
    "    ROUTE_TO_FLIGHT[row[1]].append(row[0])\n",
    "\n",
    "stmt = \"SELECT FLIGHT_ID, DEPARTURE_DATETIME FROM FLIGHT\"\n",
    "FLIGHT_DATETIME: dict[str, datetime] = {row[0]: row[1] for row in cur.execute(stmt)}\n",
    "\n",
    "stmt = \"SELECT FLIGHT_ID, EST_DURATION_IN_HOUR FROM FLIGHT\"\n",
    "FLIGHT_DURATION: dict[str, float] = {row[0]: row[1] for row in cur.execute(stmt)}\n",
    "\n",
    "stmt = \"SELECT FLIGHT_ID, AIRCRAFT_ID FROM FLIGHT\"\n",
    "FLIGHT_AIRCRAFT: dict[str, str] = {row[0]: row[1] for row in cur.execute(stmt)}\n",
    "\n",
    "USED_SEAT: defaultdict[str, set[str]] = defaultdict(set)\n",
    "\n",
    "def find_closest_flight(current_dt: datetime, route_id: str, n_tickets: int, dt: datetime) -> tuple[str, datetime, list[str], list[str]] | None:\n",
    "    filtered_flights = [t[0] for t in filter(lambda t: t[1] > current_dt, FLIGHT_DATETIME.items())]\n",
    "    flights_that_fly_the_route = ROUTE_TO_FLIGHT[route_id]\n",
    "    filtered_route_flights = filter(lambda id: id in flights_that_fly_the_route, filtered_flights)\n",
    "    for flight_id in filtered_route_flights:\n",
    "        seats = set()\n",
    "        seat_classes = {}\n",
    "        for seat, seat_class in find_seats(FLIGHT_AIRCRAFT[flight_id]):\n",
    "            seats.add(seat)\n",
    "            seat_classes[seat] = seat_class\n",
    "        seats -= USED_SEAT[flight_id]\n",
    "\n",
    "        if len(seats) < n_tickets:\n",
    "            continue\n",
    "\n",
    "        seats = list(seats)\n",
    "        seats = seats[:n_tickets]\n",
    "        for seat in seats:\n",
    "            USED_SEAT[flight_id].add(seat)\n",
    "        return flight_id, FLIGHT_DATETIME[flight_id] + timedelta(hours=FLIGHT_DURATION[flight_id] + 12), seats, list(seat_classes[seat] for seat in seats)\n",
    "    for flight_id in filtered_flights:\n",
    "        seats = set()\n",
    "        seat_classes = {}\n",
    "        for seat, seat_class in find_seats(FLIGHT_AIRCRAFT[flight_id]):\n",
    "            seats.add(seat)\n",
    "            seat_classes[seat] = seat_class\n",
    "        seats -= USED_SEAT[flight_id]\n",
    "\n",
    "        if len(seats) < n_tickets:\n",
    "            continue\n",
    "\n",
    "        seats = list(seats)\n",
    "        seats = seats[:n_tickets]\n",
    "        for seat in seats:\n",
    "            USED_SEAT[flight_id].add(seat)\n",
    "        return flight_id, FLIGHT_DATETIME[flight_id] + timedelta(hours=FLIGHT_DURATION[flight_id] + 12), seats, list(seat_classes[seat] for seat in seats)\n",
    "    filtered_flights = [t[0] for t in filter(lambda t: t[1] > dt, FLIGHT_DATETIME.items())]\n",
    "    for flight_id in filtered_flights:\n",
    "        seats = set()\n",
    "        seat_classes = {}\n",
    "        for seat, seat_class in find_seats(FLIGHT_AIRCRAFT[flight_id]):\n",
    "            seats.add(seat)\n",
    "            seat_classes[seat] = seat_class\n",
    "        seats -= USED_SEAT[flight_id]\n",
    "\n",
    "        if len(seats) < n_tickets:\n",
    "            continue\n",
    "\n",
    "        seats = list(seats)\n",
    "        seats = seats[:n_tickets]\n",
    "        for seat in seats:\n",
    "            USED_SEAT[flight_id].add(seat)\n",
    "        return flight_id, FLIGHT_DATETIME[flight_id] + timedelta(hours=FLIGHT_DURATION[flight_id] + 12), seats, list(seat_classes[seat] for seat in seats)\n",
    "    \n",
    "def cancel_seat(flight_id: str, seat_ids: list[str]):\n",
    "    for seat_id in seat_ids:\n",
    "        try:\n",
    "            USED_SEAT[flight_id].remove(seat_id)\n",
    "        except KeyError:\n",
    "            pass"
   ]
  },
  {
   "cell_type": "code",
   "execution_count": null,
   "id": "121e96c9e9a56f9b",
   "metadata": {
    "ExecuteTime": {
     "end_time": "2024-04-27T04:27:36.865022Z",
     "start_time": "2024-04-27T04:27:23.333882Z"
    }
   },
   "outputs": [],
   "source": [
    "ACCOUNT_WAIT_UNTIL: dict[str, datetime] = {}\n",
    "stmt = \"SELECT ACCOUNT_ID, JOINED_DATETIME FROM ACCOUNT\"\n",
    "for row in cur.execute(stmt):\n",
    "    ACCOUNT_WAIT_UNTIL[row[0]] = row[1]"
   ]
  },
  {
   "cell_type": "code",
   "execution_count": null,
   "id": "a546a299408b1abe",
   "metadata": {
    "ExecuteTime": {
     "end_time": "2024-04-27T04:27:50.089560Z",
     "start_time": "2024-04-27T04:27:36.866920Z"
    }
   },
   "outputs": [],
   "source": [
    "ACCOUNT_SPECIAL_SERVICE: defaultdict[str, str] = defaultdict(lambda: \"NULL\")\n",
    "stmt = \"SELECT ACCOUNT_ID FROM ACCOUNT\"\n",
    "for row in cur.execute(stmt):\n",
    "    rand_choice = np.random.randint(1, 1000)\n",
    "    if rand_choice == 1:\n",
    "        ACCOUNT_SPECIAL_SERVICE[row[0]] = \"'VVIP'\"\n",
    "    elif rand_choice <= 200:\n",
    "        ACCOUNT_SPECIAL_SERVICE[row[0]] = \"'DISA'\"\n",
    "    elif rand_choice <= 400:\n",
    "        ACCOUNT_SPECIAL_SERVICE[row[0]] = \"'ENTE'\"\n",
    "    elif rand_choice <= 600:\n",
    "        ACCOUNT_SPECIAL_SERVICE[row[0]] = \"'WIFI'\""
   ]
  },
  {
   "cell_type": "code",
   "execution_count": null,
   "id": "f5560af18a3f4985",
   "metadata": {
    "ExecuteTime": {
     "end_time": "2024-04-27T04:27:50.097752Z",
     "start_time": "2024-04-27T04:27:50.091895Z"
    }
   },
   "outputs": [],
   "source": [
    "def get_payment_method() -> str:\n",
    "    return random.choices((\"CRCD\", \"DBCD\", \"PYPL\", \"BANK\", \"CASH\"), k=1, weights=[0.3, 0.2, 0.1, 0.2, 0.2])[0]"
   ]
  },
  {
   "cell_type": "code",
   "execution_count": null,
   "id": "6abc0df5f03c2314",
   "metadata": {
    "ExecuteTime": {
     "end_time": "2024-04-27T04:27:50.109250Z",
     "start_time": "2024-04-27T04:27:50.101695Z"
    }
   },
   "outputs": [],
   "source": [
    "from collections import Counter\n",
    "\n",
    "payment_i = 0\n",
    "def PAYMENT_ID_GEN():\n",
    "    global payment_i\n",
    "    out = f\"P{payment_i:08}\"\n",
    "    payment_i += 1\n",
    "    return out\n",
    "\n",
    "flight_ticket_i: Counter = Counter()\n",
    "def TICKET_ID_GEN(dt: datetime):\n",
    "    global flight_ticket_i\n",
    "    formatted_dt = f\"{dt:%y%m}\"\n",
    "    out = f\"SFS{formatted_dt}{flight_ticket_i[formatted_dt]:06}\"\n",
    "    flight_ticket_i[formatted_dt] += 1\n",
    "    return out"
   ]
  },
  {
   "cell_type": "code",
   "execution_count": null,
   "id": "1740a07af7dfae4f",
   "metadata": {},
   "outputs": [],
   "source": [
    "from utils import paginate_insert_all\n",
    "\n",
    "flight_ticket_fmt = \"    INTO FLIGHT_TICKET (FLIGHT_TICKET_ID, ACCOUNT_ID, PAYMENT_ID, CREATED_AT, BOARDING_GROUP, TICKET_PRICE, TICKET_STATUS, SPECIAL_SERVICE_ID) VALUES ('{}', {}, '{}', TO_TIMESTAMP('{:%Y-%m-%d %H:%M:%S}', 'YYYY-MM-DD HH24:MI:SS'), {}, {:.2f}, 'Completed', {})\\n\"\n",
    "flight_sequence_fmt = \"    INTO FLIGHT_SEQUENCE (FLIGHT_TICKET_ID, FLIGHT_ID, SEAT_ID, FLIGHT_SEQUENCE) VALUES ('{}', {}, '{}', {})\\n\"\n",
    "payment_fmt = \"    INTO PAYMENT (PAYMENT_METHOD_ID, ACCOUNT_ID, CREATED_AT, AMOUNT) VALUES ('{}', {}, TO_TIMESTAMP('{:%Y-%m-%d %H:%M:%S}', 'YYYY-MM-DD HH24:MI:SS'), {:.2f})\\n\"\n",
    "\n",
    "dt = datetime(2023, 1, 1)\n",
    "with open(\"flight_ticket.sql\", \"w\") as flight_ticket_file, \\\n",
    "    open(\"flight_seq.sql\" , \"w\") as flight_sequence_file, \\\n",
    "    open(\"payment.sql\", \"w\") as payment_file:\n",
    "    \n",
    "    def insert_flight_ticket(ticket_id: str, account_id: str, payment_id: str, timestamp_created: datetime, boarding_group: int, ticket_price: float, special_service_id: str):\n",
    "        flight_ticket_file.write(flight_ticket_fmt.format(ticket_id, account_id, payment_id, timestamp_created, boarding_group, ticket_price, special_service_id))\n",
    "    \n",
    "    def insert_flight_sequence(ticket_id: str, flight_id: str, seat_id: str, route_seq: int):\n",
    "        flight_sequence_file.write(flight_sequence_fmt.format(ticket_id, flight_id, seat_id, route_seq))\n",
    "        \n",
    "    def insert_payment(payment_method_id: str, account_id: str, timestamp_created: datetime, payment_amount: float):\n",
    "        payment_file.write(payment_fmt.format(payment_method_id, account_id, timestamp_created, payment_amount))\n",
    "    \n",
    "    insert_flight_ticket = paginate_insert_all(f=insert_flight_ticket, fp=flight_ticket_file)\n",
    "    insert_flight_sequence = paginate_insert_all(f=insert_flight_sequence, fp=flight_sequence_file)\n",
    "    insert_payment = paginate_insert_all(f=insert_payment, fp=payment_file)\n",
    "    \n",
    "    try:\n",
    "        while dt < datetime(2024, 4, 19, 15):\n",
    "            accounts_to_select = filter(lambda t: dt > t[1], ACCOUNT_WAIT_UNTIL.items())\n",
    "            \n",
    "            accounts_selected = []\n",
    "            for account, _ in accounts_to_select:\n",
    "                if np.random.randint(1, 101 - ACCOUNT_TRAVEL_RATE[account]) == 1:\n",
    "                    accounts_selected.append(account)\n",
    "        \n",
    "            for account_selected in accounts_selected:\n",
    "                payment_id = PAYMENT_ID_GEN()\n",
    "                payment_amt = 0\n",
    "                \n",
    "                airports_to_choose = set(ACCOUNT_AIRPORT_PREFERENCES[account_selected])\n",
    "                if random.randint(1, 10) == 1:\n",
    "                    for airport in get_random_airports(0):\n",
    "                        airports_to_choose.add(airport)\n",
    "                start_place, end_place = random.sample(list(airports_to_choose), k=2)\n",
    "                routes = get_routes(start_place, end_place)\n",
    "                # 1 1 S1\n",
    "                # 2 1 S2\n",
    "                # 1 2 S3\n",
    "                # 2 2 S4\n",
    "                n_tickets = get_random_number_of_tickets()\n",
    "                ticket_ids = []\n",
    "                ticket_prices = []\n",
    "                for n in range(n_tickets):\n",
    "                    ticket_ids.append(TICKET_ID_GEN(dt))\n",
    "                    ticket_prices.append(0)\n",
    "        \n",
    "                cancel = False\n",
    "                temps = []\n",
    "                wait_until = ACCOUNT_WAIT_UNTIL[account_selected]\n",
    "                for route in routes:\n",
    "                    temp = find_closest_flight(wait_until, route, n_tickets, dt)\n",
    "                    temps.append(temp)\n",
    "                    if temp is None:\n",
    "                        cancel = True\n",
    "                        break\n",
    "                    wait_until = temp[1]\n",
    "        \n",
    "                if cancel or not temps:\n",
    "                    for temp in temps: \n",
    "                        if temp:\n",
    "                            flight_id, _, seat_ids, _ = temp\n",
    "                            cancel_seat(flight_id, seat_ids)\n",
    "                    payment_i -= 1\n",
    "                    for _ in ticket_ids:\n",
    "                        flight_ticket_i[f\"{dt:%y%m}\"] -= 1\n",
    "                    continue\n",
    "                print(account_selected, temps)\n",
    "                for route_seq, (flight_id, wait_until, seat_ids, seat_classes) in enumerate(temps, start=1):\n",
    "                    ACCOUNT_WAIT_UNTIL[account_selected] = wait_until\n",
    "        \n",
    "                    flight_price = FLIGHT_PRICE[flight_id]\n",
    "        \n",
    "                    for i, (ticket_id, seat_id, seat_class) in enumerate(zip(ticket_ids, seat_ids, seat_classes)):\n",
    "                        insert_flight_sequence(ticket_id, flight_id, seat_id, route_seq)\n",
    "        \n",
    "                        seat_rate = 1\n",
    "                        if seat_class == \"BUSI\":\n",
    "                            seat_rate = 2\n",
    "                        elif seat_class == \"FIRS\":\n",
    "                            seat_rate = 3\n",
    "        \n",
    "                        ticket_prices[i] += flight_price * seat_rate\n",
    "                        payment_amt += flight_price * seat_rate\n",
    "                        \n",
    "                for ticket_id, ticket_price in zip(ticket_ids, ticket_prices):\n",
    "                    insert_flight_ticket(ticket_id, account_selected, payment_id, dt, random.randint(1, 10), ticket_price, ACCOUNT_SPECIAL_SERVICE[account_selected])  # TODO: fix boarding group\n",
    "        \n",
    "                insert_payment(get_payment_method(), account_selected, dt, payment_amt)\n",
    "                \n",
    "                dt += timedelta(minutes=random.randint(1, 5), seconds=random.randint(1, 60))\n",
    "            dt += timedelta(minutes=random.randint(1, 120), seconds=random.randint(1, 60))\n",
    "    except KeyboardInterrupt:\n",
    "        print(\"stopping\")\n",
    "    finally:\n",
    "        for fp in (flight_ticket_file, flight_sequence_file, payment_file):\n",
    "            fp.write(\"SELECT 1 FROM DUAL;\\n\")"
   ]
  },
  {
   "cell_type": "code",
   "execution_count": null,
   "id": "688fd04c5a71b2fc",
   "metadata": {
    "ExecuteTime": {
     "end_time": "2024-04-20T03:41:52.538781Z",
     "start_time": "2024-04-20T03:41:52.397598Z"
    }
   },
   "outputs": [],
   "source": [
    "con.close()"
   ]
  }
 ],
 "metadata": {
  "kernelspec": {
   "display_name": "Python 3",
   "language": "python",
   "name": "python3"
  },
  "language_info": {
   "codemirror_mode": {
    "name": "ipython",
    "version": 2
   },
   "file_extension": ".py",
   "mimetype": "text/x-python",
   "name": "python",
   "nbconvert_exporter": "python",
   "pygments_lexer": "ipython2",
   "version": "2.7.6"
  }
 },
 "nbformat": 4,
 "nbformat_minor": 5
}
