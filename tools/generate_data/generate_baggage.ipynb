{
 "cells": [
  {
   "cell_type": "code",
   "execution_count": null,
   "id": "initial_id",
   "metadata": {
    "collapsed": true
   },
   "outputs": [],
   "source": [
    "from os import getenv\n",
    "from connect_db import connect_db\n",
    "con = connect_db(\n",
    "    username=getenv(\"ORACLE_USERNAME\"),\n",
    "    password=getenv(\"ORACLE_PASSWORD\"),\n",
    "    host=getenv(\"ORACLE_HOST\"),\n",
    "    port=int(getenv(\"ORACLE_PORT\"))\n",
    ")\n",
    "cur = con.cursor()"
   ]
  },
  {
   "metadata": {
    "ExecuteTime": {
     "end_time": "2024-04-30T07:24:52.047128Z",
     "start_time": "2024-04-30T07:24:52.040366Z"
    }
   },
   "cell_type": "code",
   "source": [
    "import math\n",
    "import random\n",
    "# https://stackoverflow.com/questions/70341989/weighted-random-float-number-with-single-target-and-chance-of-hitting-target\n",
    "\n",
    "# Linearly interpolate between a and b by t.\n",
    "def lerp(a, b, t):\n",
    "    return ((1.0 - t) * a) + (t * b)\n",
    "\n",
    "def random_float(max_num: float, target: float, strength: float = 1.0) -> float:\n",
    "    # scale target down to within range of 0 and 1\n",
    "    target /= max_num\n",
    "\n",
    "    # Start with a base float between 0 and 1.\n",
    "    base = random.random()\n",
    "\n",
    "    # Get another float between 0 and 1, that trends towards 1 with a higher strength value.\n",
    "    adjust = random.random()\n",
    "    adjust = 1.0 - math.pow(1.0 - adjust, strength)\n",
    "\n",
    "    # Lerp the base float towards the target by the adjust amount.\n",
    "    value = lerp(base, target, adjust)\n",
    "    \n",
    "    # scale back value to the entire float range\n",
    "    yield value * max_num "
   ],
   "id": "1de7094e6b5724a0",
   "outputs": [],
   "execution_count": 3
  },
  {
   "metadata": {
    "ExecuteTime": {
     "end_time": "2024-04-30T07:25:53.183579Z",
     "start_time": "2024-04-30T07:25:53.160915Z"
    }
   },
   "cell_type": "code",
   "source": [
    "from typing import NamedTuple, Iterable\n",
    "from enum import Enum, auto\n",
    "\n",
    "\n",
    "class BaggageType(Enum):\n",
    "    CHK = auto()\n",
    "    CO = auto()\n",
    "\n",
    "class Baggage(NamedTuple):\n",
    "    baggage_type: BaggageType\n",
    "    weight: float\n",
    "    price: float\n",
    "    additional_info: str\n",
    "    \n",
    "BAGGAGE_TYPE = [\"CO\", \"CHK\"]\n",
    "BAGGAGE_TYPE_WEIGHTS = [5, 6]\n",
    "def get_random_baggage_type() -> BaggageType:\n",
    "    return random.sample(BAGGAGE_TYPE, k=1, counts=BAGGAGE_TYPE_WEIGHTS)[0]\n",
    "\n",
    "def get_random_weight(baggage_type: str) -> float:\n",
    "    match baggage_type:\n",
    "        case \"CO\":\n",
    "            return random_float(15.0, target=4.5, strength=2.0)\n",
    "        case \"CHK\":\n",
    "            return random_float(45.0, target=10.0, strength=2.0)\n",
    "\n",
    "CARRY_ON_PRICE_PER_KG = 20\n",
    "MAX_CARRY_ON_KG = 7\n",
    "CARRY_ON_PENALTY = 1.2\n",
    "CHECK_IN_PRICE_PER_KG = 15\n",
    "MAX_CHECK_IN_KG = 20\n",
    "CHECK_IN_PENALTY = 1.2\n",
    "def calculate_price(weight: float, baggage_type: str) -> float:\n",
    "    match baggage_type:\n",
    "        case \"CO\":\n",
    "            if weight > MAX_CARRY_ON_KG:\n",
    "                over, weight = divmod(weight, MAX_CARRY_ON_KG)\n",
    "                over = over * MAX_CARRY_ON_KG\n",
    "                \n",
    "                price = weight * CARRY_ON_PRICE_PER_KG\n",
    "                price += over * CARRY_ON_PRICE_PER_KG * CARRY_ON_PENALTY\n",
    "            else:\n",
    "                price = weight * CARRY_ON_PRICE_PER_KG\n",
    "            return price\n",
    "        case \"CHK\":\n",
    "            if weight > MAX_CHECK_IN_KG:\n",
    "                over, weight = divmod(weight, MAX_CHECK_IN_KG)\n",
    "                over = over * MAX_CHECK_IN_KG\n",
    "                \n",
    "                price = weight * CHECK_IN_PRICE_PER_KG\n",
    "                price += over * CHECK_IN_PRICE_PER_KG * CHECK_IN_PENALTY\n",
    "            else:\n",
    "                price = weight * CHECK_IN_PRICE_PER_KG\n",
    "            return price\n",
    "\n",
    "BAGGAGE_ADDITIONAL_INFOS = [\"Fragile\", \"Combustible\", \"Contains liquid\", None]\n",
    "BAGGAGE_ADDITIONAL_INFOS_WEIGHTS = [5, 1, 2, 50]\n",
    "def get_random_additional_info() -> str | None:\n",
    "    return random.sample(BAGGAGE_ADDITIONAL_INFOS, k=1, counts=BAGGAGE_ADDITIONAL_INFOS_WEIGHTS)[0]\n",
    "\n",
    "def get_random_number_of_baggages() -> int:\n",
    "    i = 0\n",
    "    while random.randint(1, 2**i) == 1:\n",
    "        i += 1\n",
    "    return i\n",
    "\n",
    "def get_random_baggages() -> Iterable[Baggage]:\n",
    "    for _ in range(get_random_number_of_baggages()):\n",
    "        baggage_type = get_random_baggage_type()\n",
    "        weight = get_random_weight(baggage_type)\n",
    "        yield Baggage(\n",
    "            baggage_type=baggage_type,\n",
    "            weight=weight,\n",
    "            price=calculate_price(weight, baggage_type),\n",
    "            additional_info=get_random_additional_info()\n",
    "        )"
   ],
   "id": "f9dc2604a9d0778",
   "outputs": [],
   "execution_count": 14
  },
  {
   "metadata": {},
   "cell_type": "code",
   "outputs": [],
   "execution_count": null,
   "source": [
    "def calculate_membership_discount(membership_id: str) -> float:\n",
    "    match membership_id:\n",
    "        case \"GOLD\":\n",
    "            return 0.85\n",
    "        case \"SILV\":\n",
    "            return 0.9\n",
    "        case \"BRNZ\":\n",
    "            return 0.95\n",
    "        case _:\n",
    "            return 1\n",
    "    \n",
    "stmt = \"SELECT ACCOUNT.ACCOUNT_ID, MEMBERSHIP_TYPE_ID FROM MEMBERSHIP JOIN ACCOUNT ON ACCOUNT.ACCOUNT_ID = MEMBERSHIP.ACCOUNT_ID\" \n",
    "ACCOUNT_MEMBERSHIP: dict[str, str] = {row[0]: row[1] for row in cur.execute(stmt)}"
   ],
   "id": "23c62776fefc79e1"
  },
  {
   "metadata": {},
   "cell_type": "code",
   "outputs": [],
   "execution_count": null,
   "source": [
    "stmt = \"SELECT ACCOUNT_ID FROM REFUND JOIN PAYMENT ON REFUND.PAYMENT_ID = PAYMENT.PAYMENT_ID\"\n",
    "REFUNDED_ACCOUNT_ID = set(row[0] for row in cur.execute(stmt))"
   ],
   "id": "72418dd1689cd568"
  },
  {
   "metadata": {
    "ExecuteTime": {
     "end_time": "2024-04-30T07:42:27.975551Z",
     "start_time": "2024-04-30T07:42:27.843431Z"
    }
   },
   "cell_type": "code",
   "source": [
    "from datetime import datetime, timedelta\n",
    "\n",
    "def deviate_time(dt: datetime, min_min: int, max_min: int) -> datetime:\n",
    "    return dt - timedelta(minutes=random.randint(min_min, max_min), seconds=random.randint(1, 59))"
   ],
   "id": "faef0330e4bcb020",
   "outputs": [],
   "execution_count": 18
  },
  {
   "metadata": {},
   "cell_type": "code",
   "outputs": [],
   "execution_count": null,
   "source": [
    "def get_payment_method() -> str:\n",
    "    return random.choices((\"CRCD\", \"DBCD\", \"PYPL\", \"BANK\", \"CASH\"), k=1, weights=[0.3, 0.2, 0.1, 0.2, 0.2])[0]"
   ],
   "id": "7cd10d5464a426b6"
  },
  {
   "metadata": {
    "ExecuteTime": {
     "end_time": "2024-04-30T07:28:29.375408Z",
     "start_time": "2024-04-30T07:28:29.367049Z"
    }
   },
   "cell_type": "code",
   "source": [
    "payment_i = 0\n",
    "def PAYMENT_ID_GEN():\n",
    "    global payment_i\n",
    "    out = f\"P{payment_i:08}\"\n",
    "    payment_i += 1\n",
    "    return out"
   ],
   "id": "1a9791ed74d5c83d",
   "outputs": [],
   "execution_count": 17
  },
  {
   "metadata": {},
   "cell_type": "code",
   "outputs": [],
   "execution_count": null,
   "source": [
    "from utils import paginate_insert_all\n",
    "from datetime import datetime\n",
    "\n",
    "with open(\"3insertBaggage.sql\") as baggage_f, \\\n",
    "     open(\"1insertPayment.sql\") as payment_f:\n",
    "        \n",
    "    BAGGAGE_SQL = \"    INTO BAGGAGE (BAGGAGE_TYPE_ID, PAYMENT_ID, FLIGHT_TICKET_ID, BAGGAGE_WEIGHT_IN_KG, PRICE, ADDITIONAL_INFO) VALUES ('{}', '{}', '{}', {.2f}, {.2f}, {})\"\n",
    "    def insert_baggage(flight_ticket_id: str, payment_id: str, baggage: Baggage):\n",
    "        if baggage.additional_info:\n",
    "            additional_info = f\"'{baggage.additional_info}'\"\n",
    "        else:\n",
    "            additional_info = \"NULL\"\n",
    "        baggage_f.write(BAGGAGE_SQL.format(baggage.baggage_type.name, payment_id, flight_ticket_id, baggage.weight, baggage.price, additional_info) + '\\n')\n",
    "        \n",
    "    PAYMENT_SQL = \"    INTO PAYMENT (PAYMENT_METHOD_ID, ACCOUNT_ID, CREATED_AT, AMOUNT) VALUES ('{}', {}, TO_TIMESTAMP('{:%Y-%m-%d %H:%M:%S}', 'YYYY-MM-DD HH24:MI:SS'), {:.2f})\"\n",
    "    def insert_payment(payment_method_id: str, account_id: str, timestamp_created: datetime, payment_amount: float):\n",
    "        payment_f.write(PAYMENT_SQL.format(payment_method_id, account_id, timestamp_created, payment_amount) + '\\n')\n",
    "        \n",
    "    insert_baggage = paginate_insert_all(f=insert_baggage, fp=baggage_f)\n",
    "    insert_payment = paginate_insert_all(f=insert_payment, fp=payment_f)\n",
    "    \n",
    "    stmt = \"SELECT FLIGHT.FLIGHT_TICKET_ID, ACCOUNT_ID, DEPARTURE_DATETIME FROM FLIGHT_TICKET JOIN FLIGHT_SEQUENCE ON FLIGHT_TICKET.FLIGHT_TICKET_ID = FLIGHT_SEQUENCE.FLIGHT_TICKET_ID JOIN FLIGHT ON FLIGHT_SEQUENCE.FLIGHT_ID = FLIGHT.FLIGHT_ID\"\n",
    "    for row in cur.execute(stmt):\n",
    "        account_id = row[1]\n",
    "        if account_id in REFUNDED_ACCOUNT_ID:\n",
    "            continue\n",
    "        \n",
    "        if random.randint(1, 2) == 1:\n",
    "            continue\n",
    "            \n",
    "        flight_ticket = row[0]\n",
    "        departure_time = row[2]\n",
    "        check_in_time = deviate_time(departure_time, 10, 120)\n",
    "        \n",
    "        payment_id = PAYMENT_ID_GEN()\n",
    "        payment_amt: float = 0\n",
    "        for baggage in get_random_baggages():\n",
    "            insert_baggage(flight_ticket, payment_id, baggage)\n",
    "            if account_id in ACCOUNT_MEMBERSHIP:\n",
    "                payment_amt += baggage.price * calculate_membership_discount(ACCOUNT_MEMBERSHIP[account_id])\n",
    "            else:\n",
    "                payment_amt += baggage.price\n",
    "            \n",
    "        insert_payment(get_payment_method(), account_id, check_in_time, payment_amt)\n",
    "            \n",
    "    baggage_f.write(\"SELECT 1 FROM DUAL;\\n\")\n",
    "    payment_f.write(\"SELECT 1 FROM DUAL;\\n\")"
   ],
   "id": "c5b0c134164833a7"
  },
  {
   "metadata": {},
   "cell_type": "code",
   "outputs": [],
   "execution_count": null,
   "source": "con.close()",
   "id": "33b499580c968a71"
  }
 ],
 "metadata": {
  "kernelspec": {
   "display_name": "Python 3",
   "language": "python",
   "name": "python3"
  },
  "language_info": {
   "codemirror_mode": {
    "name": "ipython",
    "version": 2
   },
   "file_extension": ".py",
   "mimetype": "text/x-python",
   "name": "python",
   "nbconvert_exporter": "python",
   "pygments_lexer": "ipython2",
   "version": "2.7.6"
  }
 },
 "nbformat": 4,
 "nbformat_minor": 5
}
