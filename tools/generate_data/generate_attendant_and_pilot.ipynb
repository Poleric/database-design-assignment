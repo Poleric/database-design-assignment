{
 "cells": [
  {
   "cell_type": "code",
   "execution_count": null,
   "id": "initial_id",
   "metadata": {
    "ExecuteTime": {
     "end_time": "2024-04-18T13:16:33.216319Z",
     "start_time": "2024-04-18T13:16:33.211842Z"
    }
   },
   "outputs": [],
   "source": [
    "NUMBER_OF_EMPLOYEES = 800\n",
    "FLIGHT_ATTENDANT_RATIO = 0.8\n",
    "PILOT_RATIO = 0.2"
   ]
  },
  {
   "cell_type": "code",
   "execution_count": null,
   "id": "4338cac1ee0ed79",
   "metadata": {
    "ExecuteTime": {
     "end_time": "2024-04-18T13:16:35.994153Z",
     "start_time": "2024-04-18T13:16:35.989672Z"
    }
   },
   "outputs": [],
   "source": [
    "import random\n",
    "\n",
    "def random_chance(n: float) -> bool:\n",
    "    assert n <= 1\n",
    "    return random.randint(0, 100) < int(n * 100)\n",
    "\n",
    "pilot_id = []\n",
    "flight_attendant_id = []\n",
    "for i in range(NUMBER_OF_EMPLOYEES):\n",
    "    if random_chance(FLIGHT_ATTENDANT_RATIO):\n",
    "        flight_attendant_id.append(i)\n",
    "    else:\n",
    "        pilot_id.append(i)"
   ]
  },
  {
   "cell_type": "code",
   "execution_count": null,
   "id": "492c0a9511d888de",
   "metadata": {
    "ExecuteTime": {
     "end_time": "2024-04-18T13:16:27.873896Z",
     "start_time": "2024-04-18T13:16:27.870416Z"
    }
   },
   "outputs": [],
   "source": [
    "def get_random_experience_years() -> int:\n",
    "    years = list(range(1, 11))\n",
    "    weights = [0.17272 , 0.2592 , 0.216  , 0.1512 , 0.108  , 0.0432 , 0.0216 , 0.01512, 0.0108 , 0.00216]\n",
    "    return random.choices(years, weights=weights, k=1)[0]"
   ]
  },
  {
   "cell_type": "code",
   "execution_count": null,
   "id": "e410f05e79afd0cb",
   "metadata": {
    "ExecuteTime": {
     "end_time": "2024-04-18T13:17:16.997642Z",
     "start_time": "2024-04-18T13:17:16.986949Z"
    }
   },
   "outputs": [],
   "source": [
    "for i in flight_attendant_id:\n",
    "    print(f\"    INTO FLIGHT_ATTENDANT (EMPLOYEE_ID, YEARS_EXPERIENCE) VALUES ({i}, {get_random_experience_years()})\")"
   ]
  },
  {
   "cell_type": "code",
   "execution_count": null,
   "id": "ebb4d0089a14e5d3",
   "metadata": {
    "ExecuteTime": {
     "end_time": "2024-04-18T13:17:28.097119Z",
     "start_time": "2024-04-18T13:17:28.084555Z"
    }
   },
   "outputs": [],
   "source": [
    "import string\n",
    "def get_random_license_number() -> str:\n",
    "    return \"\".join(random.choices(string.ascii_uppercase, k=3)) + f\"{random.randint(1, 999):03}\" + f\"{random.randint(1, 9999):04}\"\n",
    "\n",
    "license_numbers = set()\n",
    "for _ in range(1000):\n",
    "    license_numbers.add(get_random_license_number())\n",
    "    \n",
    "iter_license = iter(license_numbers)\n",
    "for i in pilot_id:\n",
    "    print(f\"    INTO PILOT (EMPLOYEE_ID, PILOT_LICENSE_NUMBER) VALUES ({i}, '{next(iter_license)}')\")"
   ]
  }
 ],
 "metadata": {
  "kernelspec": {
   "display_name": "Python 3",
   "language": "python",
   "name": "python3"
  },
  "language_info": {
   "codemirror_mode": {
    "name": "ipython",
    "version": 2
   },
   "file_extension": ".py",
   "mimetype": "text/x-python",
   "name": "python",
   "nbconvert_exporter": "python",
   "pygments_lexer": "ipython2",
   "version": "2.7.6"
  }
 },
 "nbformat": 4,
 "nbformat_minor": 5
}
