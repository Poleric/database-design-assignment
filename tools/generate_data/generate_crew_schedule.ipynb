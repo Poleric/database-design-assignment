{
 "cells": [
  {
   "cell_type": "code",
   "execution_count": null,
   "id": "initial_id",
   "metadata": {
    "ExecuteTime": {
     "end_time": "2024-04-19T00:44:32.328579Z",
     "start_time": "2024-04-19T00:44:31.980058Z"
    }
   },
   "outputs": [],
   "source": [
    "from os import getenv\n",
    "from connect_db import connect_db\n",
    "con = connect_db(\n",
    "    username=getenv(\"ORACLE_USERNAME\"),\n",
    "    password=getenv(\"ORACLE_PASSWORD\"),\n",
    "    host=getenv(\"ORACLE_HOST\"),\n",
    "    port=int(getenv(\"ORACLE_PORT\"))\n",
    ")\n",
    "cur = con.cursor()"
   ]
  },
  {
   "cell_type": "code",
   "execution_count": null,
   "id": "22bfdfd299095525",
   "metadata": {
    "ExecuteTime": {
     "end_time": "2024-04-19T02:33:02.219210Z",
     "start_time": "2024-04-19T02:33:02.105998Z"
    }
   },
   "outputs": [],
   "source": [
    "from dataclasses import dataclass\n",
    "from datetime import datetime\n",
    "\n",
    "@dataclass(slots=True)\n",
    "class CrewInfo:\n",
    "    can_use_after: datetime\n",
    "    airport: str\n",
    "    accumulated_hours: int\n",
    "\n",
    "stmt = \"SELECT EMPLOYEE.EMPLOYEE_ID FROM EMPLOYEE JOIN PILOT ON EMPLOYEE.EMPLOYEE_ID = PILOT.EMPLOYEE_ID\"\n",
    "\n",
    "PILOTS_INFO: dict[str, CrewInfo] = {}\n",
    "for row in cur.execute(stmt):\n",
    "    PILOTS_INFO[row[0]] = CrewInfo(datetime.min, \"KUL\", 0)"
   ]
  },
  {
   "cell_type": "code",
   "execution_count": null,
   "id": "34c5fd62200fa3a3",
   "metadata": {
    "ExecuteTime": {
     "end_time": "2024-04-19T02:33:02.886130Z",
     "start_time": "2024-04-19T02:33:02.767364Z"
    }
   },
   "outputs": [],
   "source": [
    "stmt = \"SELECT EMPLOYEE.EMPLOYEE_ID FROM EMPLOYEE JOIN FLIGHT_ATTENDANT ON EMPLOYEE.EMPLOYEE_ID = FLIGHT_ATTENDANT.EMPLOYEE_ID\"\n",
    "\n",
    "FA_INFO: dict[str, CrewInfo] = {}\n",
    "for row in cur.execute(stmt):\n",
    "    FA_INFO[row[0]] = CrewInfo(datetime.min, \"KUL\", 0)"
   ]
  },
  {
   "cell_type": "code",
   "execution_count": null,
   "id": "61aecc4bcdaa05b3",
   "metadata": {
    "ExecuteTime": {
     "end_time": "2024-04-19T02:33:03.614956Z",
     "start_time": "2024-04-19T02:33:03.346753Z"
    }
   },
   "outputs": [],
   "source": [
    "from collections import defaultdict\n",
    "stmt = \"\"\"SELECT PILOT.EMPLOYEE_ID, AIRCRAFT_MODEL_ID, FLIGHT_HOUR FROM EMPLOYEE\n",
    "    JOIN PILOT ON EMPLOYEE.EMPLOYEE_ID = PILOT.EMPLOYEE_ID\n",
    "    JOIN FLIGHT_HOUR ON PILOT.PILOT_ID = FLIGHT_HOUR.PILOT_ID\"\"\"\n",
    "\n",
    "PILOTS_HOURS: defaultdict[str, dict[str, int]] = defaultdict(dict)\n",
    "\n",
    "for row in cur.execute(stmt):\n",
    "    PILOTS_HOURS[row[0]][row[1]] = row[2]"
   ]
  },
  {
   "cell_type": "code",
   "execution_count": null,
   "id": "b3e1fade3eb9a61b",
   "metadata": {
    "ExecuteTime": {
     "end_time": "2024-04-19T02:33:04.114011Z",
     "start_time": "2024-04-19T02:33:03.913032Z"
    }
   },
   "outputs": [],
   "source": [
    "stmt = \"\"\"SELECT FLIGHT_ATTENDANT.EMPLOYEE_ID, YEARS_EXPERIENCE FROM EMPLOYEE\n",
    "    JOIN FLIGHT_ATTENDANT ON EMPLOYEE.EMPLOYEE_ID = FLIGHT_ATTENDANT.EMPLOYEE_ID\"\"\"\n",
    "\n",
    "FA_HOURS: dict[str, int] = {}\n",
    "\n",
    "for row in cur.execute(stmt):\n",
    "    FA_HOURS[row[0]] = row[1]"
   ]
  },
  {
   "cell_type": "code",
   "execution_count": null,
   "id": "817c4725517038ad",
   "metadata": {
    "ExecuteTime": {
     "end_time": "2024-04-19T02:33:04.638676Z",
     "start_time": "2024-04-19T02:33:04.483248Z"
    }
   },
   "outputs": [],
   "source": [
    "stmt = \"\"\"SELECT AIRCRAFT_MODEL.AIRCRAFT_MODEL_ID, NUMBER_OF_SEAT FROM AIRCRAFT\n",
    "    JOIN AIRCRAFT_MODEL ON AIRCRAFT.AIRCRAFT_MODEL_ID = AIRCRAFT_MODEL.AIRCRAFT_MODEL_ID \"\"\"\n",
    "AIRCRAFT_MODEL_SEATS: dict[str, int] = {}\n",
    "for row in cur.execute(stmt):\n",
    "    AIRCRAFT_MODEL_SEATS[row[0]] = row[1]"
   ]
  },
  {
   "cell_type": "code",
   "execution_count": null,
   "id": "e43ac878fc8afc0a",
   "metadata": {
    "ExecuteTime": {
     "end_time": "2024-04-19T02:33:04.992969Z",
     "start_time": "2024-04-19T02:33:04.966752Z"
    }
   },
   "outputs": [],
   "source": [
    "from typing import Iterable\n",
    "from datetime import timedelta\n",
    "\n",
    "ROLES = (\"CPTN\", \"FSOF\", \"FLEN\", \"FLEN\", \"FSOF\")\n",
    "def get_number_of_pilot_roles(number_of_seats: int, duration: float) -> list[str]:\n",
    "    need_backup = duration > 12\n",
    "    if number_of_seats > 400:\n",
    "        n_pilot = 5\n",
    "    elif number_of_seats > 300:\n",
    "        n_pilot = 3\n",
    "    else:\n",
    "        n_pilot = 2\n",
    "\n",
    "    out = []\n",
    "    for _, role in zip(range(n_pilot), ROLES):\n",
    "        out.append(role)\n",
    "        if need_backup:\n",
    "            out.append(role)\n",
    "    return out\n",
    "\n",
    "def choose_pilots(aircraft_model_id: str, duration: float, start_time: datetime, start_airport: str) -> Iterable[tuple[str, str]]:\n",
    "    roles = get_number_of_pilot_roles(AIRCRAFT_MODEL_SEATS[aircraft_model_id], duration)\n",
    "    number_of_pilots_needed = len(roles)\n",
    "\n",
    "    most_free_pilots = sorted(filter(lambda t: aircraft_model_id in PILOTS_HOURS[t[0]], PILOTS_INFO.items()), key=lambda t: t[1].can_use_after)\n",
    "    k = 0\n",
    "    pilots_chosen = set()\n",
    "\n",
    "    for pilot, info in most_free_pilots:\n",
    "        if start_time > info.can_use_after and start_airport == info.airport:\n",
    "            pilots_chosen.add(pilot)\n",
    "            k += 1\n",
    "            if k == number_of_pilots_needed:\n",
    "                break\n",
    "\n",
    "    if k < number_of_pilots_needed:\n",
    "        for pilot, info in most_free_pilots:\n",
    "            if pilot not in pilots_chosen:\n",
    "                if start_time > info.can_use_after:\n",
    "                    pilots_chosen.add(pilot)\n",
    "                    k += 1\n",
    "                    if k == number_of_pilots_needed:\n",
    "                        break\n",
    "\n",
    "    pilots_chosen = sorted(pilots_chosen, key=lambda id: PILOTS_HOURS[id][aircraft_model_id], reverse=True)\n",
    "    for pilot_id, role in zip(pilots_chosen, roles):\n",
    "        yield pilot_id, role\n",
    "\n",
    "from typing import NamedTuple\n",
    "class Rest(NamedTuple):\n",
    "    rest_time: datetime\n",
    "    duration: float\n",
    "\n",
    "REST_LOG: defaultdict[str, list[Rest]] = defaultdict(list)\n",
    "def use_pilot(pilot_id: str, duration: float, end_time: datetime, end_airport: str):\n",
    "    pilot_info = PILOTS_INFO[pilot_id]\n",
    "    pilot_info.airport = end_airport\n",
    "    pilot_info.accumulated_hours += duration\n",
    "    pilot_info.can_use_after += timedelta(hours=duration)\n",
    "\n",
    "    if pilot_info.accumulated_hours > 8:\n",
    "        rest_time = max(12, pilot_info.accumulated_hours)\n",
    "        pilot_info.accumulated_hours = 0\n",
    "        REST_LOG[pilot_id].append(Rest(end_time + timedelta(minutes=30), rest_time))\n",
    "        pilot_info.can_use_after += timedelta(hours=rest_time, minutes=30)"
   ]
  },
  {
   "cell_type": "code",
   "execution_count": null,
   "id": "83128cc2b43ab729",
   "metadata": {
    "ExecuteTime": {
     "end_time": "2024-04-19T02:33:05.599041Z",
     "start_time": "2024-04-19T02:33:05.591007Z"
    }
   },
   "outputs": [],
   "source": [
    "# FA_ROLES = (\"PURS\", \"FLAT\")\n",
    "def get_number_of_flight_attendants_roles(number_of_seats: int, duration: float) -> list[str]:\n",
    "    need_backup = duration > 12\n",
    "    number_of_fa = number_of_seats // 50\n",
    "    out = []\n",
    "    for _ in range(number_of_fa):\n",
    "        out.append(\"PURS\")\n",
    "        if need_backup:\n",
    "            out.append(\"PURS\")\n",
    "    for _ in range(number_of_fa - 1):\n",
    "        out.append(\"FLAT\")\n",
    "        if need_backup:\n",
    "            out.append(\"FLAT\")\n",
    "    return out\n",
    "\n",
    "def choose_fa(aircraft_model_id: str, duration: float, start_time: datetime, start_airport: str) -> Iterable[tuple[str, str]]:\n",
    "    roles = get_number_of_flight_attendants_roles(AIRCRAFT_MODEL_SEATS[aircraft_model_id], duration)\n",
    "    number_of_fa_needed = len(roles)\n",
    "\n",
    "    sorted_fa = sorted(FA_INFO.items(), key=lambda t: t[1].can_use_after)\n",
    "    k = 0\n",
    "    fa_chosen = set()\n",
    "\n",
    "    for fa, info in sorted_fa:\n",
    "        if start_time > info.can_use_after and start_airport == info.airport:\n",
    "            fa_chosen.add(fa)\n",
    "            k += 1\n",
    "            if k == number_of_fa_needed:\n",
    "                break\n",
    "\n",
    "    if k < number_of_fa_needed:\n",
    "        for fa, info in sorted_fa:\n",
    "            if fa not in fa_chosen:\n",
    "                if start_time > info.can_use_after:\n",
    "                    fa_chosen.add(fa)\n",
    "                    k += 1\n",
    "                    if k == number_of_fa_needed:\n",
    "                        break\n",
    "\n",
    "    fa_chosen = sorted(fa_chosen, key=lambda id: FA_HOURS[id], reverse=True)\n",
    "    for fa_id, role in zip(fa_chosen, roles):\n",
    "        yield fa_id, role\n",
    "\n",
    "\n",
    "def use_fa(fa_id: str, duration: float, end_airport: str):\n",
    "    fa_info = FA_INFO[fa_id]\n",
    "    fa_info.airport = end_airport\n",
    "    fa_info.accumulated_hours += duration\n",
    "    fa_info.can_use_after += timedelta(hours=duration)"
   ]
  },
  {
   "cell_type": "code",
   "execution_count": null,
   "id": "8303de66e300ef48",
   "metadata": {
    "ExecuteTime": {
     "end_time": "2024-04-19T02:33:06.147149Z",
     "start_time": "2024-04-19T02:33:06.142735Z"
    }
   },
   "outputs": [],
   "source": [
    "import numpy as np\n",
    "def deviate_time(dt: datetime, minutes: int) -> datetime:\n",
    "    minutes_range = np.arange(minutes)\n",
    "    weights = np.concatenate((\n",
    "        np.ones(int(np.round(minutes / 3)), dtype=int) * 0.8 / int(np.round(minutes / 3)),\n",
    "        np.ones(int(np.round(minutes / 3)), dtype=int) * 0.15 / int(np.round(minutes / 3)),\n",
    "        np.ones(int(np.round(minutes / 3)), dtype=int) * 0.05 / int(np.round(minutes / 3))\n",
    "    ))\n",
    "    return dt - timedelta(minutes=np.random.choice(minutes_range, size=1, p=weights).item())"
   ]
  },
  {
   "cell_type": "code",
   "execution_count": null,
   "id": "736dfbf084225d89",
   "metadata": {},
   "outputs": [],
   "source": [
    "starting_date = datetime(2023, 1, 1)\n",
    "now = datetime(2024, 4, 19, 15)\n",
    "\n",
    "stmt = \"\"\"SELECT FLIGHT_ID, AIRCRAFT_MODEL_ID, EST_DURATION_IN_HOUR, DEPARTURE_DATETIME, FROM_AIRPORT_ID, TO_AIRPORT_ID\n",
    "FROM FLIGHT\n",
    "    JOIN AIRCRAFT ON FLIGHT.AIRCRAFT_ID = AIRCRAFT.AIRCRAFT_ID\n",
    "    JOIN ROUTE ON FLIGHT.ROUTE_ID = ROUTE.ROUTE_ID\"\"\"\n",
    "sql = \"    INTO FLIGHT_CREW_SCHEDULE (EMPLOYEE_ID, FLIGHT_ID, CREW_ROLE_ID, CLOCK_IN_TIME, CLOCK_OUT_TIME) VALUES ({}, {}, '{}', TO_TIMESTAMP('{:%Y-%m-%d %H:%M:%S}', 'YYYY-MM-DD HH24:MI:SS'), TO_TIMESTAMP('{:%Y-%m-%d %H:%M:%S}', 'YYYY-MM-DD HH24:MI:SS'))\"\n",
    "\n",
    "print(\"INSERT ALL\")\n",
    "k = 0\n",
    "for row in cur.execute(stmt):\n",
    "    flight_id = row[0]\n",
    "    model_id = row[1]\n",
    "    duration = row[2]\n",
    "    departure_time = row[3]\n",
    "    arrival_time = departure_time + timedelta(hours=duration)\n",
    "    start_airport = row[4]\n",
    "    end_airport = row[5]\n",
    "    for emp_id, role in choose_pilots(model_id, duration, departure_time, start_airport):\n",
    "        print(sql.format(emp_id, flight_id, role, deviate_time(departure_time, 9), deviate_time(arrival_time, 30)))\n",
    "        use_pilot(emp_id, duration, arrival_time, end_airport)\n",
    "        k += 1\n",
    "\n",
    "    for emp_id, role in choose_fa(model_id, duration, departure_time, start_airport):\n",
    "        print(sql.format(emp_id, flight_id, role, deviate_time(departure_time, 9), deviate_time(arrival_time, 30)))\n",
    "        use_fa(emp_id, duration, end_airport)\n",
    "        k += 1\n",
    "\n",
    "    if k > 2000:\n",
    "        print(\"SELECT 1 FROM DUAL;\")\n",
    "        print(\"INSERT ALL\")\n",
    "        k = 0\n",
    "print(\"SELECT 1 FROM DUAL;\")"
   ]
  },
  {
   "cell_type": "code",
   "execution_count": null,
   "id": "fb6e7fa45e4056f4",
   "metadata": {
    "ExecuteTime": {
     "end_time": "2024-04-19T02:33:32.540182Z",
     "start_time": "2024-04-19T02:33:32.373851Z"
    }
   },
   "outputs": [],
   "source": [
    "stmt = \"\"\"SELECT EMPLOYEE.EMPLOYEE_ID, PILOT_ID FROM EMPLOYEE\n",
    "    JOIN PILOT ON EMPLOYEE.EMPLOYEE_ID = PILOT.EMPLOYEE_ID\"\"\"\n",
    "EMP_TO_PILOT_ID: dict[str, str] = {row[0]: row[1] for row in cur.execute(stmt)}"
   ]
  },
  {
   "cell_type": "code",
   "execution_count": null,
   "id": "eba222a461c10a86",
   "metadata": {},
   "outputs": [],
   "source": [
    "sql = \"    INTO REST_LOG (PILOT_ID, START_DATETIME, END_DATETIME) VALUES ('{}', TO_TIMESTAMP('{:%Y-%m-%d %H:%M:%S}', 'YYYY-MM-DD HH24:MI:SS'), TO_TIMESTAMP('{:%Y-%m-%d %H:%M:%S}', 'YYYY-MM-DD HH24:MI:SS'))\"\n",
    "\n",
    "print(\"INSERT ALL\")\n",
    "k = 0\n",
    "for emp_id, rest in REST_LOG.items():\n",
    "    for rest_log in rest:\n",
    "        print(sql.format(EMP_TO_PILOT_ID[emp_id], rest_log.rest_time, rest_log.rest_time + timedelta(hours=rest_log.duration)))\n",
    "\n",
    "        k += 1\n",
    "        if k >= 2000:\n",
    "            print(\"SELECT 1 FROM DUAL;\")\n",
    "            print(\"INSERT ALL\")\n",
    "            k = 0\n",
    "print(\"SELECT 1 FROM DUAL;\")"
   ]
  },
  {
   "cell_type": "code",
   "execution_count": null,
   "id": "79efe9792b0c2f12",
   "metadata": {},
   "outputs": [],
   "source": [
    "con.close()"
   ]
  }
 ],
 "metadata": {
  "kernelspec": {
   "display_name": "Python 3",
   "language": "python",
   "name": "python3"
  },
  "language_info": {
   "codemirror_mode": {
    "name": "ipython",
    "version": 2
   },
   "file_extension": ".py",
   "mimetype": "text/x-python",
   "name": "python",
   "nbconvert_exporter": "python",
   "pygments_lexer": "ipython2",
   "version": "2.7.6"
  }
 },
 "nbformat": 4,
 "nbformat_minor": 5
}
