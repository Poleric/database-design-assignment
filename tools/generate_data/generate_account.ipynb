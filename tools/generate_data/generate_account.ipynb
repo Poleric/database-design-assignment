{
 "cells": [
  {
   "cell_type": "code",
   "execution_count": null,
   "id": "83fb371ffdc71662",
   "metadata": {
    "ExecuteTime": {
     "end_time": "2024-04-12T03:19:01.859972Z",
     "start_time": "2024-04-12T03:19:01.852122Z"
    }
   },
   "outputs": [],
   "source": [
    "FLIGHT_PER_DAY = 6\n",
    "\n",
    "AVERAGE_CUSTOMER_PER_FLIGHT = 120\n",
    "AVERAGE_SEAT_PER_ACCOUNT = 4\n",
    "AVERAGE_ACCOUNT_PER_FLIGHT = AVERAGE_CUSTOMER_PER_FLIGHT / AVERAGE_SEAT_PER_ACCOUNT\n",
    "\n",
    "DAYS_PER_YEAR = 365\n",
    "\n",
    "YEARS = 3\n",
    "\n",
    "PERCENTAGE_OF_DUPLICATES_ACCOUNT = 0.5\n",
    "\n",
    "ACCOUNTS_NEEDED = FLIGHT_PER_DAY * DAYS_PER_YEAR * YEARS * AVERAGE_ACCOUNT_PER_FLIGHT * (1 - PERCENTAGE_OF_DUPLICATES_ACCOUNT)\n",
    "ACCOUNTS_NEEDED"
   ]
  },
  {
   "cell_type": "code",
   "execution_count": null,
   "id": "25a2feecaf74b961",
   "metadata": {
    "ExecuteTime": {
     "end_time": "2024-04-12T03:13:29.650221Z",
     "start_time": "2024-04-12T03:13:29.645485Z"
    }
   },
   "outputs": [],
   "source": [
    "from typing import NamedTuple\n",
    "from datetime import datetime\n",
    "\n",
    "class Account(NamedTuple):\n",
    "    username: str\n",
    "    hashed_password: str\n",
    "    joined_date: datetime\n",
    "    email_address: str\n",
    "    phone_number: str\n",
    "    gender: str\n",
    "    "
   ]
  },
  {
   "cell_type": "code",
   "execution_count": null,
   "id": "ed3db2b1deea4fa6",
   "metadata": {},
   "outputs": [],
   "source": [
    "import requests \n",
    "from typing import Iterable\n",
    "# import bcrypt\n",
    "from datetime import timedelta\n",
    "import numpy as np\n",
    "import random \n",
    "import time\n",
    " \n",
    "def query_random_person(n: int = 1) -> Iterable[dict]:\n",
    "    # ratelimit 20000 per minute\n",
    "    k = 0\n",
    "    for i in range(n // 5000 + 1):\n",
    "        if k % 20000 == 0:\n",
    "            time.sleep(120)\n",
    "        \n",
    "        ret = requests.get(f\"https://randomuser.me/api/?results={min(n, 5000)}&format=json&noinfo\") \n",
    "        ret.raise_for_status()\n",
    "        yield from ret.json()[\"results\"]\n",
    "        k += 1\n",
    "        \n",
    "    \n",
    "def get_random_time_offset(years: int = 3) -> timedelta:\n",
    "    random_seconds = np.random.randint(0, years * 365 * 24 * 60 * 60)\n",
    "    return timedelta(seconds=random_seconds)\n",
    "\n",
    "\n",
    "def get_random_email_domain() -> str:\n",
    "    choices = [\"gmail\", \"hotmail\", \"outlook\", \"yahoo\"]\n",
    "    weights = [0.85, 0.02, 0.1, 0.03]\n",
    "    return np.random.choice(choices, p=weights)\n",
    "\n",
    "\n",
    "def generate_random_hash() -> str:\n",
    "    BASE_64 = \"./ABCDEFGHIJKLMNOPQRSTUVWXYZabcdefghijklmnopqrstuvwxyz0123456789\"\n",
    "    # $2b$12$aIWCDww3E2lrCLY/rGWkrOxcgzKJ2R6cXFX/0jOpJ0Rdw.zZQNUPO\n",
    "    return f\"$2b$12${''.join(random.choices(BASE_64, k=53))}\"\n",
    "\n",
    "\n",
    "def generate_random_account(n: int) -> Iterable[Account]:\n",
    "    now = datetime.now()\n",
    "    for person in query_random_person(n):\n",
    "        email_address = person[\"email\"].replace(\"example\", get_random_email_domain())\n",
    "        if np.random.randint(0, 2) == 1:\n",
    "            email_address = email_address[email_address.find(\".\") + 1:]\n",
    "        yield Account(\n",
    "            username=f\"{person[\"name\"][\"first\"]} {person[\"name\"][\"last\"]}\",\n",
    "            # hashed_password=bcrypt.hashpw(person[\"login\"][\"password\"].encode(\"utf-8\"), bcrypt.gensalt()).decode(\"utf-8\"),\n",
    "            hashed_password=generate_random_hash(),\n",
    "            joined_date=now - get_random_time_offset(),\n",
    "            email_address=email_address,\n",
    "            phone_number=person[\"phone\"],\n",
    "            gender=person[\"gender\"][0].upper()\n",
    "        )\n",
    "\n",
    "trans = str.maketrans({\"'\": \"''\", \"&\": r\"\\&\"})\n",
    "make_sql_nice = lambda s: s.translate(trans)\n",
    "\n",
    "with open(\"stuff.sql\", \"a\") as f:\n",
    "    for account in generate_random_account(int(ACCOUNTS_NEEDED) - 90000):\n",
    "        sql_stmt = f\"    INTO ACCOUNT (USERNAME, HASHED_PASSWORD, JOINED_DATE, EMAIL_ADDRESS, PHONE_NUMBER, GENDER) \" \\\n",
    "              f\"VALUES (\" \\\n",
    "              f\"'{make_sql_nice(account.username)}', \" \\\n",
    "              f\"'{make_sql_nice(account.hashed_password)}', \" \\\n",
    "              f\"TO_TIMESTAMP('{account.joined_date:%Y-%m-%d %H:%M:%S}', 'YYYY-MM-DD HH24:MI:SS'), \" \\\n",
    "              f\"'{make_sql_nice(account.email_address)}', \" + \\\n",
    "              (f\"'{account.phone_number}'\" if np.random.randint(0, 5) != 1 else 'NULL') + \", \" + \\\n",
    "              (f\"'{account.gender}'\" if np.random.randint(0, 10) != 1 else 'NULL') + \\\n",
    "              \")\"\n",
    "        print(sql_stmt)\n",
    "        f.write(sql_stmt + '\\n')\n",
    "    "
   ]
  }
 ],
 "metadata": {
  "kernelspec": {
   "display_name": "Python 3",
   "language": "python",
   "name": "python3"
  },
  "language_info": {
   "codemirror_mode": {
    "name": "ipython",
    "version": 2
   },
   "file_extension": ".py",
   "mimetype": "text/x-python",
   "name": "python",
   "nbconvert_exporter": "python",
   "pygments_lexer": "ipython2",
   "version": "2.7.6"
  }
 },
 "nbformat": 4,
 "nbformat_minor": 5
}
