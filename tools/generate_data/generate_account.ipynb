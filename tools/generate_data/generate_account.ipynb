{
 "cells": [
  {
   "cell_type": "code",
   "execution_count": null,
   "id": "83fb371ffdc71662",
   "metadata": {
    "ExecuteTime": {
     "end_time": "2024-04-26T12:29:43.955045Z",
     "start_time": "2024-04-26T12:29:43.946363Z"
    }
   },
   "outputs": [],
   "source": [
    "FLIGHT_PER_DAY = 6\n",
    "\n",
    "AVERAGE_CUSTOMER_PER_FLIGHT = 120\n",
    "AVERAGE_SEAT_PER_ACCOUNT = 4\n",
    "AVERAGE_ACCOUNT_PER_FLIGHT = AVERAGE_CUSTOMER_PER_FLIGHT / AVERAGE_SEAT_PER_ACCOUNT\n",
    "\n",
    "DAYS_PER_YEAR = 365\n",
    "\n",
    "YEARS = 3\n",
    "\n",
    "PERCENTAGE_OF_DUPLICATES_ACCOUNT = 0.5\n",
    "\n",
    "ACCOUNTS_NEEDED = FLIGHT_PER_DAY * DAYS_PER_YEAR * YEARS * AVERAGE_ACCOUNT_PER_FLIGHT * (1 - PERCENTAGE_OF_DUPLICATES_ACCOUNT)\n",
    "ACCOUNTS_NEEDED = int(ACCOUNTS_NEEDED)"
   ]
  },
  {
   "cell_type": "code",
   "execution_count": null,
   "id": "d38c2e215f5cc856",
   "metadata": {
    "ExecuteTime": {
     "end_time": "2024-04-26T12:29:44.417253Z",
     "start_time": "2024-04-26T12:29:43.960401Z"
    }
   },
   "outputs": [],
   "source": [
    "import json\n",
    "from utils import unique\n",
    "from typing import NamedTuple, Iterable\n",
    "\n",
    "\n",
    "class Person(NamedTuple):\n",
    "    username: str\n",
    "    email: str\n",
    "    password: str\n",
    "\n",
    "NAMES_FILE = './member_data/names.json'\n",
    "PASSWORD_FILE = \"./member_data/passlist.json\"\n",
    "\n",
    "with open(NAMES_FILE, \"r\", encoding=\"utf-8\") as nf, \\\n",
    "     open(PASSWORD_FILE, \"r\", encoding=\"utf-8\") as pf:\n",
    "    names = json.load(nf)\n",
    "    passwords = json.load(pf)\n",
    "\n",
    "@unique\n",
    "def generate_random_name() -> tuple[str, str]:\n",
    "    return tuple(random.sample(names, k=2))\n",
    "\n",
    "@unique\n",
    "def generate_random_phone_number() -> str:\n",
    "    return f\"({random.randint(1, 999):03}) {random.randint(1, 999):03}-{random.randint(1, 9999):04}\"\n",
    "\n",
    "def generate_random_gender() -> str:\n",
    "    return \"M\" if random.randint(0, 1) else \"F\"\n",
    "\n",
    "domains = ['gmail', 'yahoo', 'hotmail', 'outlook', 'yandex', 'protonmail', 'mail']\n",
    "domains_weights = [1000, 200, 100, 200, 10, 20, 1]\n",
    "tlds = ['com', 'net']\n",
    "tld_weights = [20, 1]\n",
    "@unique\n",
    "def generate_random_email_address(first_name: str, last_name: str) -> str:\n",
    "    domain = random.sample(domains, k=1, counts=domains_weights)[0]\n",
    "    tld = random.sample(tlds, k=1, counts=tld_weights)[0]\n",
    "\n",
    "    email = \"\"\n",
    "    if random.randint(0, 1):\n",
    "        email += f\"{first_name.lower()}_\"\n",
    "    if not email or random.randint(0, 1):\n",
    "        email += f\"{last_name.lower().replace(\".\", \"\")}\"\n",
    "    email += f\"@{domain}.{tld}\"\n",
    "    return email\n",
    "    \n",
    "def generate_person(n: int = 1000) -> Iterable[Person]:\n",
    "    for _ in range(n):\n",
    "        first_name, last_name = generate_random_name()\n",
    "\n",
    "        email = generate_random_email_address(first_name, last_name)\n",
    "        password = random.choice(passwords)\n",
    "\n",
    "        yield Person((first_name + \" \" + last_name).title(), email, password)"
   ]
  },
  {
   "cell_type": "code",
   "execution_count": null,
   "id": "ed3db2b1deea4fa6",
   "metadata": {
    "ExecuteTime": {
     "end_time": "2024-04-26T12:29:44.430237Z",
     "start_time": "2024-04-26T12:29:44.419055Z"
    }
   },
   "outputs": [],
   "source": [
    "from typing import Iterable, NamedTuple\n",
    "# import bcrypt\n",
    "from datetime import timedelta, datetime\n",
    "import random\n",
    "\n",
    "class Account(NamedTuple):\n",
    "    username: str\n",
    "    hashed_password: str\n",
    "    joined_date: datetime\n",
    "    email_address: str\n",
    "    phone_number: str\n",
    "    gender: str\n",
    "    \n",
    "def get_random_time_offset(years: int = 3) -> timedelta:\n",
    "    random_seconds = random.randint(0, years * 365 * 24 * 60 * 60)\n",
    "    return timedelta(seconds=random_seconds)\n",
    "\n",
    "\n",
    "def generate_random_hash() -> str:\n",
    "    BASE_64 = \"./ABCDEFGHIJKLMNOPQRSTUVWXYZabcdefghijklmnopqrstuvwxyz0123456789\"\n",
    "    # $2b$12$aIWCDww3E2lrCLY/rGWkrOxcgzKJ2R6cXFX/0jOpJ0Rdw.zZQNUPO\n",
    "    return f\"$2b$12${''.join(random.choices(BASE_64, k=53))}\"\n",
    "\n",
    "\n",
    "def generate_random_account(n: int) -> Iterable[Account]:\n",
    "    now = datetime.now()\n",
    "    for person in generate_person(n):\n",
    "        yield Account(\n",
    "            username=person.username,\n",
    "            # hashed_password=bcrypt.hashpw(person[\"login\"][\"password\"].encode(\"utf-8\"), bcrypt.gensalt()).decode(\"utf-8\"),\n",
    "            hashed_password=generate_random_hash(),\n",
    "            joined_date=now - get_random_time_offset(),\n",
    "            email_address=person.email,\n",
    "            phone_number=generate_random_phone_number(),\n",
    "            gender=generate_random_gender()\n",
    "        )"
   ]
  },
  {
   "cell_type": "code",
   "execution_count": null,
   "id": "3f870e8c9dd9d464",
   "metadata": {
    "ExecuteTime": {
     "end_time": "2024-04-26T12:31:42.756862Z",
     "start_time": "2024-04-26T12:31:28.566732Z"
    }
   },
   "outputs": [],
   "source": [
    "from utils import paginate_insert_all\n",
    "import re\n",
    "\n",
    "trans = str.maketrans({\"'\": \"''\", \"&\": r\"\\&\"})\n",
    "make_sql_nice = lambda s: s.translate(trans)\n",
    "sql_stmt = \"    INTO ACCOUNT (USERNAME, HASHED_PASSWORD, JOINED_DATETIME, EMAIL_ADDRESS, PHONE_NUMBER, GENDER) \" \\\n",
    "           \"VALUES ('{}', '{}', TO_TIMESTAMP('{:%Y-%m-%d %H:%M:%S}', 'YYYY-MM-DD HH24:MI:SS'), '{}', {}, {})\"\n",
    "email_pat = re.compile(r\"^[a-z0-9!#$%&'*+/=?^_`{|}~-]+(\\.[a-z0-9!#$%&'*+/=?^_`{|}~-]+)*@(([a-z0-9]([a-z0-9-]*[a-z0-9])?\\.)+[a-z0-9]([a-z0-9-]*[a-z0-9])?|\\[((2(5[0-5]|[0-4][0-9])|1[0-9][0-9]|[1-9]?[0-9])\\.){3}((2(5[0-5]|[0-4][0-9])|1[0-9][0-9]|[1-9]?[0-9])|[a-z0-9-]*[a-z0-9]:)\\])$\")\n",
    "    \n",
    "i = 0\n",
    "with open(\"stuff.sql\", \"w\") as f:\n",
    "    def print_insert(account: Account):\n",
    "        f.write(sql_stmt.format(make_sql_nice(account.username), make_sql_nice(account.hashed_password), account.joined_date, make_sql_nice(account.email_address), f\"'{account.phone_number}'\" if random.randint(0, 5) != 1 else 'NULL', f\"'{account.gender}'\" if random.randint(0, 10) != 1 else 'NULL') + '\\n')\n",
    "    print_insert = paginate_insert_all(f=print_insert, fp=f)\n",
    "        \n",
    "    for account in generate_random_account(ACCOUNTS_NEEDED):\n",
    "        if not email_pat.match(account.email_address):\n",
    "            print(account.email_address)\n",
    "            continue\n",
    "        \n",
    "        print_insert(account)\n",
    "        \n",
    "    f.write(\"SELECT 1 FROM DUAL;\")"
   ]
  }
 ],
 "metadata": {
  "kernelspec": {
   "display_name": "Python 3",
   "language": "python",
   "name": "python3"
  },
  "language_info": {
   "codemirror_mode": {
    "name": "ipython",
    "version": 2
   },
   "file_extension": ".py",
   "mimetype": "text/x-python",
   "name": "python",
   "nbconvert_exporter": "python",
   "pygments_lexer": "ipython2",
   "version": "2.7.6"
  }
 },
 "nbformat": 4,
 "nbformat_minor": 5
}
