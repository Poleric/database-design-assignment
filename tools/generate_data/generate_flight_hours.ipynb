{
 "cells": [
  {
   "cell_type": "code",
   "execution_count": null,
   "id": "initial_id",
   "metadata": {
    "ExecuteTime": {
     "end_time": "2024-04-18T14:19:06.273877Z",
     "start_time": "2024-04-18T14:19:05.834429Z"
    }
   },
   "outputs": [],
   "source": [
    "from os import getenv\n",
    "from connect_db import connect_db\n",
    "con = connect_db(\n",
    "    username=getenv(\"ORACLE_USERNAME\"),\n",
    "    password=getenv(\"ORACLE_PASSWORD\"),\n",
    "    host=getenv(\"ORACLE_HOST\"),\n",
    "    port=int(getenv(\"ORACLE_PORT\"))\n",
    ")\n",
    "cur = con.cursor()"
   ]
  },
  {
   "cell_type": "code",
   "execution_count": null,
   "id": "c49ba0d1ca3b71d2",
   "metadata": {
    "ExecuteTime": {
     "end_time": "2024-04-18T14:55:03.898439Z",
     "start_time": "2024-04-18T14:55:03.804246Z"
    }
   },
   "outputs": [],
   "source": [
    "import numpy as np\n",
    "\n",
    "stmt = \"\"\"\n",
    "SELECT AIRCRAFT.AIRCRAFT_MODEL_ID, NUMBER_OF_SEAT\n",
    "FROM AIRCRAFT\n",
    "    JOIN AIRCRAFT_MODEL ON AIRCRAFT.AIRCRAFT_MODEL_ID = AIRCRAFT_MODEL.AIRCRAFT_MODEL_ID\n",
    "\"\"\"\n",
    "aircraft_model_ids = []\n",
    "weights = []\n",
    "for row in cur.execute(stmt):\n",
    "    if row[1] < 10:\n",
    "        weights.append(1)\n",
    "    elif row[1] < 150:\n",
    "        weights.append(2)\n",
    "    elif row[1] < 350:\n",
    "        weights.append(3)\n",
    "    else:\n",
    "        weights.append(2)\n",
    "    aircraft_model_ids.append(row[0])\n",
    "weights = np.array(weights) / sum(weights)"
   ]
  },
  {
   "cell_type": "code",
   "execution_count": null,
   "id": "c1d4db4d45068935",
   "metadata": {},
   "outputs": [],
   "source": [
    "stmt = \"SELECT PILOT_ID FROM PILOT\"\n",
    "pilot_ids = [row[0] for row in cur.execute(stmt)]\n",
    "pilot_ids"
   ]
  },
  {
   "cell_type": "code",
   "execution_count": null,
   "id": "c06fc88cb6ba1388",
   "metadata": {},
   "outputs": [],
   "source": [
    "import numpy as np\n",
    "from typing import Iterable\n",
    "\n",
    "def generate_flight_hours() -> int:\n",
    "    hours = np.arange(2500, 25000, dtype=int)\n",
    "    weights = np.concatenate((\n",
    "        np.ones(2500, dtype=int) * 0.3 / 2500,\n",
    "        np.ones(5000, dtype=int) * 0.4 / 5000,\n",
    "        np.ones(5000, dtype=int) * 0.2 / 5000,\n",
    "        np.ones(10000, dtype=int) * 0.1 / 10000,\n",
    "    ))\n",
    "    return np.random.choice(hours, p=weights, size=1).item()\n",
    "\n",
    "def get_random_aircraft_model_ids() -> Iterable[str]:\n",
    "    n = 0\n",
    "    for i in range(len(aircraft_model_ids)):\n",
    "        if np.random.randint(1, np.power(2, i) + 1) != 1:\n",
    "            break\n",
    "        n += 1\n",
    "        \n",
    "    yield from np.random.choice(aircraft_model_ids, p=weights, size=n)"
   ]
  },
  {
   "cell_type": "code",
   "execution_count": null,
   "id": "1f638f686ac55fe9",
   "metadata": {},
   "outputs": [],
   "source": [
    "sql = \"    INTO FLIGHT_HOUR (PILOT_ID, AIRCRAFT_MODEL_ID, FLIGHT_HOUR) VALUES('{}', '{}', {})\"\n",
    "for pilot_id in pilot_ids:\n",
    "    for aircraft_model_id in get_random_aircraft_model_ids():\n",
    "        print(sql.format(pilot_id,aircraft_model_id, generate_flight_hours()))"
   ]
  },
  {
   "cell_type": "code",
   "execution_count": null,
   "id": "c81310b8b43343e",
   "metadata": {
    "ExecuteTime": {
     "end_time": "2024-04-18T16:11:57.035908Z",
     "start_time": "2024-04-18T16:11:56.921714Z"
    }
   },
   "outputs": [],
   "source": [
    "con.close()"
   ]
  }
 ],
 "metadata": {
  "kernelspec": {
   "display_name": "Python 3",
   "language": "python",
   "name": "python3"
  },
  "language_info": {
   "codemirror_mode": {
    "name": "ipython",
    "version": 2
   },
   "file_extension": ".py",
   "mimetype": "text/x-python",
   "name": "python",
   "nbconvert_exporter": "python",
   "pygments_lexer": "ipython2",
   "version": "2.7.6"
  }
 },
 "nbformat": 4,
 "nbformat_minor": 5
}
